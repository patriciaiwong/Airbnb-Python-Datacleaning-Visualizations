﻿{
 "cells": [
  {
   "cell_type": "code",
   "execution_count": 1,
   "metadata": {},
   "outputs": [],
   "source": [
    "import pandas as pd\n",
    "import numpy as np\n",
    "from scipy import stats\n",
    "import seaborn as sns #!pip install seaborn\n",
    "import matplotlib.pyplot as plt\n",
    "import mpl_toolkits\n",
    "from mpl_toolkits.mplot3d import Axes3D\n",
    "import requests\n",
    "import pprint\n",
    "from config import map_key\n"
   ]
  },
  {
   "cell_type": "code",
   "execution_count": 2,
   "metadata": {},
   "outputs": [
    {
     "data": {
      "text/plain": [
       "'http://www.mapquestapi.com/geocoding/v1/address?key=AVGKdlu1IdakAmuexFuRz46D89fhRGZj&location='"
      ]
     },
     "execution_count": 2,
     "metadata": {},
     "output_type": "execute_result"
    }
   ],
   "source": [
    "url='http://www.mapquestapi.com/geocoding/v1/address?key=' + map_key + '&location='\n",
    "url"
   ]
  },
  {
   "cell_type": "code",
   "execution_count": 3,
   "metadata": {},
   "outputs": [
    {
     "data": {
      "text/html": [
       "<style  type=\"text/css\" >\n",
       "</style><table id=\"T_9ecf715c_08e2_11ea_9803_a0510b7c6987\" ><thead>    <tr>        <th class=\"blank level0\" ></th>        <th class=\"col_heading level0 col0\" >id</th>        <th class=\"col_heading level0 col1\" >name</th>        <th class=\"col_heading level0 col2\" >host_id</th>        <th class=\"col_heading level0 col3\" >host_name</th>        <th class=\"col_heading level0 col4\" >neighbourhood_group</th>        <th class=\"col_heading level0 col5\" >neighbourhood</th>        <th class=\"col_heading level0 col6\" >latitude</th>        <th class=\"col_heading level0 col7\" >longitude</th>        <th class=\"col_heading level0 col8\" >room_type</th>        <th class=\"col_heading level0 col9\" >price</th>        <th class=\"col_heading level0 col10\" >minimum_nights</th>        <th class=\"col_heading level0 col11\" >number_of_reviews</th>        <th class=\"col_heading level0 col12\" >last_review</th>        <th class=\"col_heading level0 col13\" >reviews_per_month</th>        <th class=\"col_heading level0 col14\" >calculated_host_listings_count</th>        <th class=\"col_heading level0 col15\" >availability_365</th>    </tr></thead><tbody>\n",
       "                <tr>\n",
       "                        <th id=\"T_9ecf715c_08e2_11ea_9803_a0510b7c6987level0_row0\" class=\"row_heading level0 row0\" >0</th>\n",
       "                        <td id=\"T_9ecf715c_08e2_11ea_9803_a0510b7c6987row0_col0\" class=\"data row0 col0\" >2539</td>\n",
       "                        <td id=\"T_9ecf715c_08e2_11ea_9803_a0510b7c6987row0_col1\" class=\"data row0 col1\" >Clean & quiet apt home by the park</td>\n",
       "                        <td id=\"T_9ecf715c_08e2_11ea_9803_a0510b7c6987row0_col2\" class=\"data row0 col2\" >2787</td>\n",
       "                        <td id=\"T_9ecf715c_08e2_11ea_9803_a0510b7c6987row0_col3\" class=\"data row0 col3\" >John</td>\n",
       "                        <td id=\"T_9ecf715c_08e2_11ea_9803_a0510b7c6987row0_col4\" class=\"data row0 col4\" >Brooklyn</td>\n",
       "                        <td id=\"T_9ecf715c_08e2_11ea_9803_a0510b7c6987row0_col5\" class=\"data row0 col5\" >Kensington</td>\n",
       "                        <td id=\"T_9ecf715c_08e2_11ea_9803_a0510b7c6987row0_col6\" class=\"data row0 col6\" >40.6475</td>\n",
       "                        <td id=\"T_9ecf715c_08e2_11ea_9803_a0510b7c6987row0_col7\" class=\"data row0 col7\" >-73.9724</td>\n",
       "                        <td id=\"T_9ecf715c_08e2_11ea_9803_a0510b7c6987row0_col8\" class=\"data row0 col8\" >Private room</td>\n",
       "                        <td id=\"T_9ecf715c_08e2_11ea_9803_a0510b7c6987row0_col9\" class=\"data row0 col9\" >149</td>\n",
       "                        <td id=\"T_9ecf715c_08e2_11ea_9803_a0510b7c6987row0_col10\" class=\"data row0 col10\" >1</td>\n",
       "                        <td id=\"T_9ecf715c_08e2_11ea_9803_a0510b7c6987row0_col11\" class=\"data row0 col11\" >9</td>\n",
       "                        <td id=\"T_9ecf715c_08e2_11ea_9803_a0510b7c6987row0_col12\" class=\"data row0 col12\" >2018-10-19</td>\n",
       "                        <td id=\"T_9ecf715c_08e2_11ea_9803_a0510b7c6987row0_col13\" class=\"data row0 col13\" >0.21</td>\n",
       "                        <td id=\"T_9ecf715c_08e2_11ea_9803_a0510b7c6987row0_col14\" class=\"data row0 col14\" >6</td>\n",
       "                        <td id=\"T_9ecf715c_08e2_11ea_9803_a0510b7c6987row0_col15\" class=\"data row0 col15\" >365</td>\n",
       "            </tr>\n",
       "            <tr>\n",
       "                        <th id=\"T_9ecf715c_08e2_11ea_9803_a0510b7c6987level0_row1\" class=\"row_heading level0 row1\" >1</th>\n",
       "                        <td id=\"T_9ecf715c_08e2_11ea_9803_a0510b7c6987row1_col0\" class=\"data row1 col0\" >2595</td>\n",
       "                        <td id=\"T_9ecf715c_08e2_11ea_9803_a0510b7c6987row1_col1\" class=\"data row1 col1\" >Skylit Midtown Castle</td>\n",
       "                        <td id=\"T_9ecf715c_08e2_11ea_9803_a0510b7c6987row1_col2\" class=\"data row1 col2\" >2845</td>\n",
       "                        <td id=\"T_9ecf715c_08e2_11ea_9803_a0510b7c6987row1_col3\" class=\"data row1 col3\" >Jennifer</td>\n",
       "                        <td id=\"T_9ecf715c_08e2_11ea_9803_a0510b7c6987row1_col4\" class=\"data row1 col4\" >Manhattan</td>\n",
       "                        <td id=\"T_9ecf715c_08e2_11ea_9803_a0510b7c6987row1_col5\" class=\"data row1 col5\" >Midtown</td>\n",
       "                        <td id=\"T_9ecf715c_08e2_11ea_9803_a0510b7c6987row1_col6\" class=\"data row1 col6\" >40.7536</td>\n",
       "                        <td id=\"T_9ecf715c_08e2_11ea_9803_a0510b7c6987row1_col7\" class=\"data row1 col7\" >-73.9838</td>\n",
       "                        <td id=\"T_9ecf715c_08e2_11ea_9803_a0510b7c6987row1_col8\" class=\"data row1 col8\" >Entire home/apt</td>\n",
       "                        <td id=\"T_9ecf715c_08e2_11ea_9803_a0510b7c6987row1_col9\" class=\"data row1 col9\" >225</td>\n",
       "                        <td id=\"T_9ecf715c_08e2_11ea_9803_a0510b7c6987row1_col10\" class=\"data row1 col10\" >1</td>\n",
       "                        <td id=\"T_9ecf715c_08e2_11ea_9803_a0510b7c6987row1_col11\" class=\"data row1 col11\" >45</td>\n",
       "                        <td id=\"T_9ecf715c_08e2_11ea_9803_a0510b7c6987row1_col12\" class=\"data row1 col12\" >2019-05-21</td>\n",
       "                        <td id=\"T_9ecf715c_08e2_11ea_9803_a0510b7c6987row1_col13\" class=\"data row1 col13\" >0.38</td>\n",
       "                        <td id=\"T_9ecf715c_08e2_11ea_9803_a0510b7c6987row1_col14\" class=\"data row1 col14\" >2</td>\n",
       "                        <td id=\"T_9ecf715c_08e2_11ea_9803_a0510b7c6987row1_col15\" class=\"data row1 col15\" >355</td>\n",
       "            </tr>\n",
       "            <tr>\n",
       "                        <th id=\"T_9ecf715c_08e2_11ea_9803_a0510b7c6987level0_row2\" class=\"row_heading level0 row2\" >2</th>\n",
       "                        <td id=\"T_9ecf715c_08e2_11ea_9803_a0510b7c6987row2_col0\" class=\"data row2 col0\" >3647</td>\n",
       "                        <td id=\"T_9ecf715c_08e2_11ea_9803_a0510b7c6987row2_col1\" class=\"data row2 col1\" >THE VILLAGE OF HARLEM....NEW YORK !</td>\n",
       "                        <td id=\"T_9ecf715c_08e2_11ea_9803_a0510b7c6987row2_col2\" class=\"data row2 col2\" >4632</td>\n",
       "                        <td id=\"T_9ecf715c_08e2_11ea_9803_a0510b7c6987row2_col3\" class=\"data row2 col3\" >Elisabeth</td>\n",
       "                        <td id=\"T_9ecf715c_08e2_11ea_9803_a0510b7c6987row2_col4\" class=\"data row2 col4\" >Manhattan</td>\n",
       "                        <td id=\"T_9ecf715c_08e2_11ea_9803_a0510b7c6987row2_col5\" class=\"data row2 col5\" >Harlem</td>\n",
       "                        <td id=\"T_9ecf715c_08e2_11ea_9803_a0510b7c6987row2_col6\" class=\"data row2 col6\" >40.809</td>\n",
       "                        <td id=\"T_9ecf715c_08e2_11ea_9803_a0510b7c6987row2_col7\" class=\"data row2 col7\" >-73.9419</td>\n",
       "                        <td id=\"T_9ecf715c_08e2_11ea_9803_a0510b7c6987row2_col8\" class=\"data row2 col8\" >Private room</td>\n",
       "                        <td id=\"T_9ecf715c_08e2_11ea_9803_a0510b7c6987row2_col9\" class=\"data row2 col9\" >150</td>\n",
       "                        <td id=\"T_9ecf715c_08e2_11ea_9803_a0510b7c6987row2_col10\" class=\"data row2 col10\" >3</td>\n",
       "                        <td id=\"T_9ecf715c_08e2_11ea_9803_a0510b7c6987row2_col11\" class=\"data row2 col11\" >0</td>\n",
       "                        <td id=\"T_9ecf715c_08e2_11ea_9803_a0510b7c6987row2_col12\" class=\"data row2 col12\" >nan</td>\n",
       "                        <td id=\"T_9ecf715c_08e2_11ea_9803_a0510b7c6987row2_col13\" class=\"data row2 col13\" >nan</td>\n",
       "                        <td id=\"T_9ecf715c_08e2_11ea_9803_a0510b7c6987row2_col14\" class=\"data row2 col14\" >1</td>\n",
       "                        <td id=\"T_9ecf715c_08e2_11ea_9803_a0510b7c6987row2_col15\" class=\"data row2 col15\" >365</td>\n",
       "            </tr>\n",
       "            <tr>\n",
       "                        <th id=\"T_9ecf715c_08e2_11ea_9803_a0510b7c6987level0_row3\" class=\"row_heading level0 row3\" >3</th>\n",
       "                        <td id=\"T_9ecf715c_08e2_11ea_9803_a0510b7c6987row3_col0\" class=\"data row3 col0\" >3831</td>\n",
       "                        <td id=\"T_9ecf715c_08e2_11ea_9803_a0510b7c6987row3_col1\" class=\"data row3 col1\" >Cozy Entire Floor of Brownstone</td>\n",
       "                        <td id=\"T_9ecf715c_08e2_11ea_9803_a0510b7c6987row3_col2\" class=\"data row3 col2\" >4869</td>\n",
       "                        <td id=\"T_9ecf715c_08e2_11ea_9803_a0510b7c6987row3_col3\" class=\"data row3 col3\" >LisaRoxanne</td>\n",
       "                        <td id=\"T_9ecf715c_08e2_11ea_9803_a0510b7c6987row3_col4\" class=\"data row3 col4\" >Brooklyn</td>\n",
       "                        <td id=\"T_9ecf715c_08e2_11ea_9803_a0510b7c6987row3_col5\" class=\"data row3 col5\" >Clinton Hill</td>\n",
       "                        <td id=\"T_9ecf715c_08e2_11ea_9803_a0510b7c6987row3_col6\" class=\"data row3 col6\" >40.6851</td>\n",
       "                        <td id=\"T_9ecf715c_08e2_11ea_9803_a0510b7c6987row3_col7\" class=\"data row3 col7\" >-73.9598</td>\n",
       "                        <td id=\"T_9ecf715c_08e2_11ea_9803_a0510b7c6987row3_col8\" class=\"data row3 col8\" >Entire home/apt</td>\n",
       "                        <td id=\"T_9ecf715c_08e2_11ea_9803_a0510b7c6987row3_col9\" class=\"data row3 col9\" >89</td>\n",
       "                        <td id=\"T_9ecf715c_08e2_11ea_9803_a0510b7c6987row3_col10\" class=\"data row3 col10\" >1</td>\n",
       "                        <td id=\"T_9ecf715c_08e2_11ea_9803_a0510b7c6987row3_col11\" class=\"data row3 col11\" >270</td>\n",
       "                        <td id=\"T_9ecf715c_08e2_11ea_9803_a0510b7c6987row3_col12\" class=\"data row3 col12\" >2019-07-05</td>\n",
       "                        <td id=\"T_9ecf715c_08e2_11ea_9803_a0510b7c6987row3_col13\" class=\"data row3 col13\" >4.64</td>\n",
       "                        <td id=\"T_9ecf715c_08e2_11ea_9803_a0510b7c6987row3_col14\" class=\"data row3 col14\" >1</td>\n",
       "                        <td id=\"T_9ecf715c_08e2_11ea_9803_a0510b7c6987row3_col15\" class=\"data row3 col15\" >194</td>\n",
       "            </tr>\n",
       "            <tr>\n",
       "                        <th id=\"T_9ecf715c_08e2_11ea_9803_a0510b7c6987level0_row4\" class=\"row_heading level0 row4\" >4</th>\n",
       "                        <td id=\"T_9ecf715c_08e2_11ea_9803_a0510b7c6987row4_col0\" class=\"data row4 col0\" >5022</td>\n",
       "                        <td id=\"T_9ecf715c_08e2_11ea_9803_a0510b7c6987row4_col1\" class=\"data row4 col1\" >Entire Apt: Spacious Studio/Loft by central park</td>\n",
       "                        <td id=\"T_9ecf715c_08e2_11ea_9803_a0510b7c6987row4_col2\" class=\"data row4 col2\" >7192</td>\n",
       "                        <td id=\"T_9ecf715c_08e2_11ea_9803_a0510b7c6987row4_col3\" class=\"data row4 col3\" >Laura</td>\n",
       "                        <td id=\"T_9ecf715c_08e2_11ea_9803_a0510b7c6987row4_col4\" class=\"data row4 col4\" >Manhattan</td>\n",
       "                        <td id=\"T_9ecf715c_08e2_11ea_9803_a0510b7c6987row4_col5\" class=\"data row4 col5\" >East Harlem</td>\n",
       "                        <td id=\"T_9ecf715c_08e2_11ea_9803_a0510b7c6987row4_col6\" class=\"data row4 col6\" >40.7985</td>\n",
       "                        <td id=\"T_9ecf715c_08e2_11ea_9803_a0510b7c6987row4_col7\" class=\"data row4 col7\" >-73.944</td>\n",
       "                        <td id=\"T_9ecf715c_08e2_11ea_9803_a0510b7c6987row4_col8\" class=\"data row4 col8\" >Entire home/apt</td>\n",
       "                        <td id=\"T_9ecf715c_08e2_11ea_9803_a0510b7c6987row4_col9\" class=\"data row4 col9\" >80</td>\n",
       "                        <td id=\"T_9ecf715c_08e2_11ea_9803_a0510b7c6987row4_col10\" class=\"data row4 col10\" >10</td>\n",
       "                        <td id=\"T_9ecf715c_08e2_11ea_9803_a0510b7c6987row4_col11\" class=\"data row4 col11\" >9</td>\n",
       "                        <td id=\"T_9ecf715c_08e2_11ea_9803_a0510b7c6987row4_col12\" class=\"data row4 col12\" >2018-11-19</td>\n",
       "                        <td id=\"T_9ecf715c_08e2_11ea_9803_a0510b7c6987row4_col13\" class=\"data row4 col13\" >0.1</td>\n",
       "                        <td id=\"T_9ecf715c_08e2_11ea_9803_a0510b7c6987row4_col14\" class=\"data row4 col14\" >1</td>\n",
       "                        <td id=\"T_9ecf715c_08e2_11ea_9803_a0510b7c6987row4_col15\" class=\"data row4 col15\" >0</td>\n",
       "            </tr>\n",
       "    </tbody></table>"
      ],
      "text/plain": [
       "<pandas.io.formats.style.Styler at 0x2137ab315f8>"
      ]
     },
     "execution_count": 3,
     "metadata": {},
     "output_type": "execute_result"
    }
   ],
   "source": [
    "# Create a reference to the CSV and import it into a Pandas DataFrame\n",
    "nyc_airbnb_data = \"AB_NYC_2019.csv\"\n",
    "nyc_airbnb_df = pd.read_csv(nyc_airbnb_data)\n",
    "nyc_airbnb_df.head().style"
   ]
  },
  {
   "cell_type": "code",
   "execution_count": 4,
   "metadata": {},
   "outputs": [
    {
     "data": {
      "text/html": [
       "<div>\n",
       "<style scoped>\n",
       "    .dataframe tbody tr th:only-of-type {\n",
       "        vertical-align: middle;\n",
       "    }\n",
       "\n",
       "    .dataframe tbody tr th {\n",
       "        vertical-align: top;\n",
       "    }\n",
       "\n",
       "    .dataframe thead th {\n",
       "        text-align: right;\n",
       "    }\n",
       "</style>\n",
       "<table border=\"1\" class=\"dataframe\">\n",
       "  <thead>\n",
       "    <tr style=\"text-align: right;\">\n",
       "      <th></th>\n",
       "      <th>name</th>\n",
       "      <th>neighbourhood_group</th>\n",
       "      <th>neighbourhood</th>\n",
       "      <th>room_type</th>\n",
       "      <th>price</th>\n",
       "      <th>minimum_nights</th>\n",
       "      <th>availability_365</th>\n",
       "      <th>id</th>\n",
       "    </tr>\n",
       "  </thead>\n",
       "  <tbody>\n",
       "    <tr>\n",
       "      <td>0</td>\n",
       "      <td>Clean &amp; quiet apt home by the park</td>\n",
       "      <td>Brooklyn</td>\n",
       "      <td>Kensington</td>\n",
       "      <td>Private room</td>\n",
       "      <td>149</td>\n",
       "      <td>1</td>\n",
       "      <td>365</td>\n",
       "      <td>2539</td>\n",
       "    </tr>\n",
       "    <tr>\n",
       "      <td>1</td>\n",
       "      <td>Skylit Midtown Castle</td>\n",
       "      <td>Manhattan</td>\n",
       "      <td>Midtown</td>\n",
       "      <td>Entire home/apt</td>\n",
       "      <td>225</td>\n",
       "      <td>1</td>\n",
       "      <td>355</td>\n",
       "      <td>2595</td>\n",
       "    </tr>\n",
       "    <tr>\n",
       "      <td>2</td>\n",
       "      <td>THE VILLAGE OF HARLEM....NEW YORK !</td>\n",
       "      <td>Manhattan</td>\n",
       "      <td>Harlem</td>\n",
       "      <td>Private room</td>\n",
       "      <td>150</td>\n",
       "      <td>3</td>\n",
       "      <td>365</td>\n",
       "      <td>3647</td>\n",
       "    </tr>\n",
       "    <tr>\n",
       "      <td>3</td>\n",
       "      <td>Cozy Entire Floor of Brownstone</td>\n",
       "      <td>Brooklyn</td>\n",
       "      <td>Clinton Hill</td>\n",
       "      <td>Entire home/apt</td>\n",
       "      <td>89</td>\n",
       "      <td>1</td>\n",
       "      <td>194</td>\n",
       "      <td>3831</td>\n",
       "    </tr>\n",
       "    <tr>\n",
       "      <td>4</td>\n",
       "      <td>Entire Apt: Spacious Studio/Loft by central park</td>\n",
       "      <td>Manhattan</td>\n",
       "      <td>East Harlem</td>\n",
       "      <td>Entire home/apt</td>\n",
       "      <td>80</td>\n",
       "      <td>10</td>\n",
       "      <td>0</td>\n",
       "      <td>5022</td>\n",
       "    </tr>\n",
       "  </tbody>\n",
       "</table>\n",
       "</div>"
      ],
      "text/plain": [
       "                                               name neighbourhood_group  \\\n",
       "0                Clean & quiet apt home by the park            Brooklyn   \n",
       "1                             Skylit Midtown Castle           Manhattan   \n",
       "2               THE VILLAGE OF HARLEM....NEW YORK !           Manhattan   \n",
       "3                   Cozy Entire Floor of Brownstone            Brooklyn   \n",
       "4  Entire Apt: Spacious Studio/Loft by central park           Manhattan   \n",
       "\n",
       "  neighbourhood        room_type  price  minimum_nights  availability_365  \\\n",
       "0    Kensington     Private room    149               1               365   \n",
       "1       Midtown  Entire home/apt    225               1               355   \n",
       "2        Harlem     Private room    150               3               365   \n",
       "3  Clinton Hill  Entire home/apt     89               1               194   \n",
       "4   East Harlem  Entire home/apt     80              10                 0   \n",
       "\n",
       "     id  \n",
       "0  2539  \n",
       "1  2595  \n",
       "2  3647  \n",
       "3  3831  \n",
       "4  5022  "
      ]
     },
     "execution_count": 4,
     "metadata": {},
     "output_type": "execute_result"
    }
   ],
   "source": [
    "# Create DataFrama\n",
    "nyc_airbnb = nyc_airbnb_df[[\"name\", \"neighbourhood_group\", \"neighbourhood\", \"room_type\", \"price\", \n",
    "                            \"minimum_nights\", \"availability_365\", \"id\"]]\n",
    "nyc_airbnb.head()"
   ]
  },
  {
   "cell_type": "code",
   "execution_count": 5,
   "metadata": {},
   "outputs": [
    {
     "data": {
      "text/html": [
       "<style  type=\"text/css\" >\n",
       "</style><table id=\"T_9ed7ed80_08e2_11ea_9692_a0510b7c6987\" ><thead>    <tr>        <th class=\"blank level0\" ></th>        <th class=\"col_heading level0 col0\" >Name</th>        <th class=\"col_heading level0 col1\" >Borough</th>        <th class=\"col_heading level0 col2\" >Neighborhood</th>        <th class=\"col_heading level0 col3\" >Room Type</th>        <th class=\"col_heading level0 col4\" >Price</th>        <th class=\"col_heading level0 col5\" >Minimum Nights</th>        <th class=\"col_heading level0 col6\" >Yearly Availability</th>        <th class=\"col_heading level0 col7\" >ID</th>    </tr></thead><tbody>\n",
       "                <tr>\n",
       "                        <th id=\"T_9ed7ed80_08e2_11ea_9692_a0510b7c6987level0_row0\" class=\"row_heading level0 row0\" >0</th>\n",
       "                        <td id=\"T_9ed7ed80_08e2_11ea_9692_a0510b7c6987row0_col0\" class=\"data row0 col0\" >Clean & quiet apt home by the park</td>\n",
       "                        <td id=\"T_9ed7ed80_08e2_11ea_9692_a0510b7c6987row0_col1\" class=\"data row0 col1\" >Brooklyn</td>\n",
       "                        <td id=\"T_9ed7ed80_08e2_11ea_9692_a0510b7c6987row0_col2\" class=\"data row0 col2\" >Kensington</td>\n",
       "                        <td id=\"T_9ed7ed80_08e2_11ea_9692_a0510b7c6987row0_col3\" class=\"data row0 col3\" >Private room</td>\n",
       "                        <td id=\"T_9ed7ed80_08e2_11ea_9692_a0510b7c6987row0_col4\" class=\"data row0 col4\" >149</td>\n",
       "                        <td id=\"T_9ed7ed80_08e2_11ea_9692_a0510b7c6987row0_col5\" class=\"data row0 col5\" >1</td>\n",
       "                        <td id=\"T_9ed7ed80_08e2_11ea_9692_a0510b7c6987row0_col6\" class=\"data row0 col6\" >365</td>\n",
       "                        <td id=\"T_9ed7ed80_08e2_11ea_9692_a0510b7c6987row0_col7\" class=\"data row0 col7\" >2539</td>\n",
       "            </tr>\n",
       "            <tr>\n",
       "                        <th id=\"T_9ed7ed80_08e2_11ea_9692_a0510b7c6987level0_row1\" class=\"row_heading level0 row1\" >1</th>\n",
       "                        <td id=\"T_9ed7ed80_08e2_11ea_9692_a0510b7c6987row1_col0\" class=\"data row1 col0\" >Skylit Midtown Castle</td>\n",
       "                        <td id=\"T_9ed7ed80_08e2_11ea_9692_a0510b7c6987row1_col1\" class=\"data row1 col1\" >Manhattan</td>\n",
       "                        <td id=\"T_9ed7ed80_08e2_11ea_9692_a0510b7c6987row1_col2\" class=\"data row1 col2\" >Midtown</td>\n",
       "                        <td id=\"T_9ed7ed80_08e2_11ea_9692_a0510b7c6987row1_col3\" class=\"data row1 col3\" >Entire home/apt</td>\n",
       "                        <td id=\"T_9ed7ed80_08e2_11ea_9692_a0510b7c6987row1_col4\" class=\"data row1 col4\" >225</td>\n",
       "                        <td id=\"T_9ed7ed80_08e2_11ea_9692_a0510b7c6987row1_col5\" class=\"data row1 col5\" >1</td>\n",
       "                        <td id=\"T_9ed7ed80_08e2_11ea_9692_a0510b7c6987row1_col6\" class=\"data row1 col6\" >355</td>\n",
       "                        <td id=\"T_9ed7ed80_08e2_11ea_9692_a0510b7c6987row1_col7\" class=\"data row1 col7\" >2595</td>\n",
       "            </tr>\n",
       "            <tr>\n",
       "                        <th id=\"T_9ed7ed80_08e2_11ea_9692_a0510b7c6987level0_row2\" class=\"row_heading level0 row2\" >2</th>\n",
       "                        <td id=\"T_9ed7ed80_08e2_11ea_9692_a0510b7c6987row2_col0\" class=\"data row2 col0\" >THE VILLAGE OF HARLEM....NEW YORK !</td>\n",
       "                        <td id=\"T_9ed7ed80_08e2_11ea_9692_a0510b7c6987row2_col1\" class=\"data row2 col1\" >Manhattan</td>\n",
       "                        <td id=\"T_9ed7ed80_08e2_11ea_9692_a0510b7c6987row2_col2\" class=\"data row2 col2\" >Harlem</td>\n",
       "                        <td id=\"T_9ed7ed80_08e2_11ea_9692_a0510b7c6987row2_col3\" class=\"data row2 col3\" >Private room</td>\n",
       "                        <td id=\"T_9ed7ed80_08e2_11ea_9692_a0510b7c6987row2_col4\" class=\"data row2 col4\" >150</td>\n",
       "                        <td id=\"T_9ed7ed80_08e2_11ea_9692_a0510b7c6987row2_col5\" class=\"data row2 col5\" >3</td>\n",
       "                        <td id=\"T_9ed7ed80_08e2_11ea_9692_a0510b7c6987row2_col6\" class=\"data row2 col6\" >365</td>\n",
       "                        <td id=\"T_9ed7ed80_08e2_11ea_9692_a0510b7c6987row2_col7\" class=\"data row2 col7\" >3647</td>\n",
       "            </tr>\n",
       "            <tr>\n",
       "                        <th id=\"T_9ed7ed80_08e2_11ea_9692_a0510b7c6987level0_row3\" class=\"row_heading level0 row3\" >3</th>\n",
       "                        <td id=\"T_9ed7ed80_08e2_11ea_9692_a0510b7c6987row3_col0\" class=\"data row3 col0\" >Cozy Entire Floor of Brownstone</td>\n",
       "                        <td id=\"T_9ed7ed80_08e2_11ea_9692_a0510b7c6987row3_col1\" class=\"data row3 col1\" >Brooklyn</td>\n",
       "                        <td id=\"T_9ed7ed80_08e2_11ea_9692_a0510b7c6987row3_col2\" class=\"data row3 col2\" >Clinton Hill</td>\n",
       "                        <td id=\"T_9ed7ed80_08e2_11ea_9692_a0510b7c6987row3_col3\" class=\"data row3 col3\" >Entire home/apt</td>\n",
       "                        <td id=\"T_9ed7ed80_08e2_11ea_9692_a0510b7c6987row3_col4\" class=\"data row3 col4\" >89</td>\n",
       "                        <td id=\"T_9ed7ed80_08e2_11ea_9692_a0510b7c6987row3_col5\" class=\"data row3 col5\" >1</td>\n",
       "                        <td id=\"T_9ed7ed80_08e2_11ea_9692_a0510b7c6987row3_col6\" class=\"data row3 col6\" >194</td>\n",
       "                        <td id=\"T_9ed7ed80_08e2_11ea_9692_a0510b7c6987row3_col7\" class=\"data row3 col7\" >3831</td>\n",
       "            </tr>\n",
       "            <tr>\n",
       "                        <th id=\"T_9ed7ed80_08e2_11ea_9692_a0510b7c6987level0_row4\" class=\"row_heading level0 row4\" >4</th>\n",
       "                        <td id=\"T_9ed7ed80_08e2_11ea_9692_a0510b7c6987row4_col0\" class=\"data row4 col0\" >Entire Apt: Spacious Studio/Loft by central park</td>\n",
       "                        <td id=\"T_9ed7ed80_08e2_11ea_9692_a0510b7c6987row4_col1\" class=\"data row4 col1\" >Manhattan</td>\n",
       "                        <td id=\"T_9ed7ed80_08e2_11ea_9692_a0510b7c6987row4_col2\" class=\"data row4 col2\" >East Harlem</td>\n",
       "                        <td id=\"T_9ed7ed80_08e2_11ea_9692_a0510b7c6987row4_col3\" class=\"data row4 col3\" >Entire home/apt</td>\n",
       "                        <td id=\"T_9ed7ed80_08e2_11ea_9692_a0510b7c6987row4_col4\" class=\"data row4 col4\" >80</td>\n",
       "                        <td id=\"T_9ed7ed80_08e2_11ea_9692_a0510b7c6987row4_col5\" class=\"data row4 col5\" >10</td>\n",
       "                        <td id=\"T_9ed7ed80_08e2_11ea_9692_a0510b7c6987row4_col6\" class=\"data row4 col6\" >0</td>\n",
       "                        <td id=\"T_9ed7ed80_08e2_11ea_9692_a0510b7c6987row4_col7\" class=\"data row4 col7\" >5022</td>\n",
       "            </tr>\n",
       "    </tbody></table>"
      ],
      "text/plain": [
       "<pandas.io.formats.style.Styler at 0x21316392438>"
      ]
     },
     "execution_count": 5,
     "metadata": {},
     "output_type": "execute_result"
    }
   ],
   "source": [
    "# Rename columns\n",
    "nyc_airbnb = nyc_airbnb.rename(columns={\"name\": \"Name\",\n",
    "                                        \"neighbourhood_group\": \"Borough\",\n",
    "                                        \"neighbourhood\": \"Neighborhood\",\n",
    "                                        \"room_type\": \"Room Type\",\n",
    "                                        \"price\": \"Price\",\n",
    "                                        \"minimum_nights\": \"Minimum Nights\",\n",
    "                                        \"availability_365\": \"Yearly Availability\",\n",
    "                                        \"id\": \"ID\"})\n",
    "\n",
    "nyc_airbnb.head().style"
   ]
  },
  {
   "cell_type": "code",
   "execution_count": 6,
   "metadata": {},
   "outputs": [
    {
     "data": {
      "text/html": [
       "<div>\n",
       "<style scoped>\n",
       "    .dataframe tbody tr th:only-of-type {\n",
       "        vertical-align: middle;\n",
       "    }\n",
       "\n",
       "    .dataframe tbody tr th {\n",
       "        vertical-align: top;\n",
       "    }\n",
       "\n",
       "    .dataframe thead th {\n",
       "        text-align: right;\n",
       "    }\n",
       "</style>\n",
       "<table border=\"1\" class=\"dataframe\">\n",
       "  <thead>\n",
       "    <tr style=\"text-align: right;\">\n",
       "      <th></th>\n",
       "      <th>Name</th>\n",
       "      <th>Borough</th>\n",
       "      <th>Neighborhood</th>\n",
       "      <th>Room Type</th>\n",
       "      <th>Price</th>\n",
       "      <th>Minimum Nights</th>\n",
       "      <th>Yearly Availability</th>\n",
       "      <th>ID</th>\n",
       "    </tr>\n",
       "  </thead>\n",
       "  <tbody>\n",
       "    <tr>\n",
       "      <td>0</td>\n",
       "      <td>Clean &amp; quiet apt home by the park</td>\n",
       "      <td>Brooklyn</td>\n",
       "      <td>Kensington</td>\n",
       "      <td>Private room</td>\n",
       "      <td>149</td>\n",
       "      <td>1</td>\n",
       "      <td>365</td>\n",
       "      <td>2539</td>\n",
       "    </tr>\n",
       "    <tr>\n",
       "      <td>1</td>\n",
       "      <td>Skylit Midtown Castle</td>\n",
       "      <td>Manhattan</td>\n",
       "      <td>Midtown</td>\n",
       "      <td>Entire home/apt</td>\n",
       "      <td>225</td>\n",
       "      <td>1</td>\n",
       "      <td>355</td>\n",
       "      <td>2595</td>\n",
       "    </tr>\n",
       "    <tr>\n",
       "      <td>2</td>\n",
       "      <td>THE VILLAGE OF HARLEM....NEW YORK !</td>\n",
       "      <td>Manhattan</td>\n",
       "      <td>Harlem</td>\n",
       "      <td>Private room</td>\n",
       "      <td>150</td>\n",
       "      <td>3</td>\n",
       "      <td>365</td>\n",
       "      <td>3647</td>\n",
       "    </tr>\n",
       "    <tr>\n",
       "      <td>3</td>\n",
       "      <td>Cozy Entire Floor of Brownstone</td>\n",
       "      <td>Brooklyn</td>\n",
       "      <td>Clinton Hill</td>\n",
       "      <td>Entire home/apt</td>\n",
       "      <td>89</td>\n",
       "      <td>1</td>\n",
       "      <td>194</td>\n",
       "      <td>3831</td>\n",
       "    </tr>\n",
       "    <tr>\n",
       "      <td>4</td>\n",
       "      <td>Large Cozy 1 BR Apartment In Midtown East</td>\n",
       "      <td>Manhattan</td>\n",
       "      <td>Murray Hill</td>\n",
       "      <td>Entire home/apt</td>\n",
       "      <td>200</td>\n",
       "      <td>3</td>\n",
       "      <td>129</td>\n",
       "      <td>5099</td>\n",
       "    </tr>\n",
       "  </tbody>\n",
       "</table>\n",
       "</div>"
      ],
      "text/plain": [
       "                                        Name    Borough  Neighborhood  \\\n",
       "0         Clean & quiet apt home by the park   Brooklyn    Kensington   \n",
       "1                      Skylit Midtown Castle  Manhattan       Midtown   \n",
       "2        THE VILLAGE OF HARLEM....NEW YORK !  Manhattan        Harlem   \n",
       "3            Cozy Entire Floor of Brownstone   Brooklyn  Clinton Hill   \n",
       "4  Large Cozy 1 BR Apartment In Midtown East  Manhattan   Murray Hill   \n",
       "\n",
       "         Room Type  Price  Minimum Nights  Yearly Availability    ID  \n",
       "0     Private room    149               1                  365  2539  \n",
       "1  Entire home/apt    225               1                  355  2595  \n",
       "2     Private room    150               3                  365  3647  \n",
       "3  Entire home/apt     89               1                  194  3831  \n",
       "4  Entire home/apt    200               3                  129  5099  "
      ]
     },
     "execution_count": 6,
     "metadata": {},
     "output_type": "execute_result"
    }
   ],
   "source": [
    "#DROP ROWS WHERE YEARLY AVAILABILITY = 0\n",
    "airbnb_df = nyc_airbnb[nyc_airbnb[\"Yearly Availability\"] != 0]\n",
    "# Reset Index\n",
    "airbnb_df.reset_index(inplace=True,drop=True)\n",
    "airbnb_df.head()"
   ]
  },
  {
   "cell_type": "markdown",
   "metadata": {},
   "source": [
    "### PATRICIA"
   ]
  },
  {
   "cell_type": "code",
   "execution_count": 7,
   "metadata": {},
   "outputs": [],
   "source": [
    "B = airbnb_df.sort_values(\n",
    "    ['Borough', 'Neighborhood'])\n"
   ]
  },
  {
   "cell_type": "code",
   "execution_count": 8,
   "metadata": {
    "scrolled": true
   },
   "outputs": [
    {
     "data": {
      "text/html": [
       "<div>\n",
       "<style scoped>\n",
       "    .dataframe tbody tr th:only-of-type {\n",
       "        vertical-align: middle;\n",
       "    }\n",
       "\n",
       "    .dataframe tbody tr th {\n",
       "        vertical-align: top;\n",
       "    }\n",
       "\n",
       "    .dataframe thead th {\n",
       "        text-align: right;\n",
       "    }\n",
       "</style>\n",
       "<table border=\"1\" class=\"dataframe\">\n",
       "  <thead>\n",
       "    <tr style=\"text-align: right;\">\n",
       "      <th></th>\n",
       "      <th>Borough</th>\n",
       "      <th>Neighborhood</th>\n",
       "      <th>Room Type</th>\n",
       "      <th>Price</th>\n",
       "      <th>ID</th>\n",
       "    </tr>\n",
       "  </thead>\n",
       "  <tbody>\n",
       "    <tr>\n",
       "      <td>0</td>\n",
       "      <td>Bronx</td>\n",
       "      <td>Allerton</td>\n",
       "      <td>Entire home/apt</td>\n",
       "      <td>125</td>\n",
       "      <td>182177</td>\n",
       "    </tr>\n",
       "    <tr>\n",
       "      <td>1</td>\n",
       "      <td>Bronx</td>\n",
       "      <td>Allerton</td>\n",
       "      <td>Private room</td>\n",
       "      <td>35</td>\n",
       "      <td>498120</td>\n",
       "    </tr>\n",
       "    <tr>\n",
       "      <td>2</td>\n",
       "      <td>Bronx</td>\n",
       "      <td>Allerton</td>\n",
       "      <td>Private room</td>\n",
       "      <td>39</td>\n",
       "      <td>715270</td>\n",
       "    </tr>\n",
       "    <tr>\n",
       "      <td>3</td>\n",
       "      <td>Bronx</td>\n",
       "      <td>Allerton</td>\n",
       "      <td>Entire home/apt</td>\n",
       "      <td>49</td>\n",
       "      <td>755528</td>\n",
       "    </tr>\n",
       "    <tr>\n",
       "      <td>4</td>\n",
       "      <td>Bronx</td>\n",
       "      <td>Allerton</td>\n",
       "      <td>Private room</td>\n",
       "      <td>38</td>\n",
       "      <td>773041</td>\n",
       "    </tr>\n",
       "  </tbody>\n",
       "</table>\n",
       "</div>"
      ],
      "text/plain": [
       "  Borough Neighborhood        Room Type  Price      ID\n",
       "0   Bronx     Allerton  Entire home/apt    125  182177\n",
       "1   Bronx     Allerton     Private room     35  498120\n",
       "2   Bronx     Allerton     Private room     39  715270\n",
       "3   Bronx     Allerton  Entire home/apt     49  755528\n",
       "4   Bronx     Allerton     Private room     38  773041"
      ]
     },
     "execution_count": 8,
     "metadata": {},
     "output_type": "execute_result"
    }
   ],
   "source": [
    "BnN = B.drop(['Name', 'Minimum Nights', 'Yearly Availability'], axis=1).reset_index(drop=True)\n",
    "BnN.head()"
   ]
  },
  {
   "cell_type": "code",
   "execution_count": 9,
   "metadata": {},
   "outputs": [],
   "source": [
    "terms=[]\n",
    "for _,row in BnN.iterrows():\n",
    "   term=row['Neighborhood']+','+row['Borough']+', NYC'\n",
    "   if term not in terms:\n",
    "       terms.append(term)\n",
    "len(terms)\n",
    "lats=[]\n",
    "lngs=[]\n",
    "locs=[]\n",
    "for term in terms:\n",
    "   try:\n",
    "       queryurl=url+term\n",
    "       response=requests.get(queryurl).json()\n",
    "       pair=response['results'][0]['locations'][0]['latLng']\n",
    "       lats.append(pair['lat'])\n",
    "       lngs.append(pair['lng'])\n",
    "       locs.append(term)\n",
    "   except:\n",
    "       continue\n",
    "Ns=[]\n",
    "Bs=[]\n",
    "for loc in locs:\n",
    "   s=loc.split(',')\n",
    "   Ns.append(s[0])\n",
    "   Bs.append(s[1])\n",
    "newdf=pd.DataFrame({'lats':lats,'lngs':lngs,'Neighborhood':Ns,'Borough':Bs})\n",
    "BnN=BnN.merge(newdf,how='left',on=['Neighborhood','Borough'])\n"
   ]
  },
  {
   "cell_type": "code",
   "execution_count": 10,
   "metadata": {},
   "outputs": [],
   "source": [
    "response['results'][0]['locations'][0]['latLng']\n",
    "price = BnN[\"Price\"].astype(float)\n",
    "\n",
    "lats = BnN['lats']\n",
    "\n",
    "lngs = BnN['lngs']\n",
    "prices=BnN['Price']"
   ]
  },
  {
   "cell_type": "code",
   "execution_count": 11,
   "metadata": {},
   "outputs": [],
   "source": [
    "from ipyleaflet import Map, Heatmap, Marker, MarkerCluster\n",
    "\n",
    "m = Map(center=(40.730610, -73.935242), zoom=10, dragging=True)\n",
    "\n",
    "marker_locs=[]\n",
    "for i in range(0,len(prices)):\n",
    "    marker_loc =  lats[i],lngs[i],prices[i]\n",
    "    marker_locs.append(marker_loc)"
   ]
  },
  {
   "cell_type": "code",
   "execution_count": 12,
   "metadata": {},
   "outputs": [
    {
     "data": {
      "application/vnd.jupyter.widget-view+json": {
       "model_id": "825944e2d73b44849fe3bef00c44a1c4",
       "version_major": 2,
       "version_minor": 0
      },
      "text/plain": [
       "Map(basemap={'url': 'https://{s}.tile.openstreetmap.org/{z}/{x}/{y}.png', 'max_zoom': 19, 'attribution': 'Map …"
      ]
     },
     "metadata": {},
     "output_type": "display_data"
    },
    {
     "name": "stdout",
     "output_type": "stream",
     "text": [
      "(40.86553, -73.86247, 125)\n"
     ]
    }
   ],
   "source": [
    "heatmap = Heatmap(\n",
    "    locations=marker_locs,\n",
    "\n",
    "    \n",
    ")\n",
    "\n",
    " #Change some attributes of the heatmap\n",
    "heatmap.radius = 10\n",
    "heatmap.blur = 5\n",
    "heatmap.max = 200\n",
    "heatmap.gradient = {0.4: 'lime', 0.6: 'cyan', 0.7: 'yellow', 0.8: 'orange', 1.0: 'red'}\n",
    "\n",
    "m.add_layer(heatmap);\n",
    "\n",
    "print(marker_locs[0])\n",
    "m"
   ]
  },
  {
   "cell_type": "code",
   "execution_count": 13,
   "metadata": {},
   "outputs": [
    {
     "data": {
      "text/html": [
       "<div>\n",
       "<style scoped>\n",
       "    .dataframe tbody tr th:only-of-type {\n",
       "        vertical-align: middle;\n",
       "    }\n",
       "\n",
       "    .dataframe tbody tr th {\n",
       "        vertical-align: top;\n",
       "    }\n",
       "\n",
       "    .dataframe thead th {\n",
       "        text-align: right;\n",
       "    }\n",
       "</style>\n",
       "<table border=\"1\" class=\"dataframe\">\n",
       "  <thead>\n",
       "    <tr style=\"text-align: right;\">\n",
       "      <th></th>\n",
       "      <th>Borough</th>\n",
       "      <th>Neighborhood</th>\n",
       "      <th>Room Type</th>\n",
       "      <th>Price</th>\n",
       "      <th>ID</th>\n",
       "      <th>lats</th>\n",
       "      <th>lngs</th>\n",
       "      <th>Price Summary per Neighborhood</th>\n",
       "    </tr>\n",
       "  </thead>\n",
       "  <tbody>\n",
       "    <tr>\n",
       "      <td>0</td>\n",
       "      <td>Bronx</td>\n",
       "      <td>Allerton</td>\n",
       "      <td>Entire home/apt</td>\n",
       "      <td>125</td>\n",
       "      <td>182177</td>\n",
       "      <td>40.86553</td>\n",
       "      <td>-73.86247</td>\n",
       "      <td>100-149</td>\n",
       "    </tr>\n",
       "    <tr>\n",
       "      <td>1</td>\n",
       "      <td>Bronx</td>\n",
       "      <td>Allerton</td>\n",
       "      <td>Private room</td>\n",
       "      <td>35</td>\n",
       "      <td>498120</td>\n",
       "      <td>40.86553</td>\n",
       "      <td>-73.86247</td>\n",
       "      <td>&lt; 50</td>\n",
       "    </tr>\n",
       "    <tr>\n",
       "      <td>2</td>\n",
       "      <td>Bronx</td>\n",
       "      <td>Allerton</td>\n",
       "      <td>Private room</td>\n",
       "      <td>39</td>\n",
       "      <td>715270</td>\n",
       "      <td>40.86553</td>\n",
       "      <td>-73.86247</td>\n",
       "      <td>&lt; 50</td>\n",
       "    </tr>\n",
       "    <tr>\n",
       "      <td>3</td>\n",
       "      <td>Bronx</td>\n",
       "      <td>Allerton</td>\n",
       "      <td>Entire home/apt</td>\n",
       "      <td>49</td>\n",
       "      <td>755528</td>\n",
       "      <td>40.86553</td>\n",
       "      <td>-73.86247</td>\n",
       "      <td>&lt; 50</td>\n",
       "    </tr>\n",
       "    <tr>\n",
       "      <td>4</td>\n",
       "      <td>Bronx</td>\n",
       "      <td>Allerton</td>\n",
       "      <td>Private room</td>\n",
       "      <td>38</td>\n",
       "      <td>773041</td>\n",
       "      <td>40.86553</td>\n",
       "      <td>-73.86247</td>\n",
       "      <td>&lt; 50</td>\n",
       "    </tr>\n",
       "  </tbody>\n",
       "</table>\n",
       "</div>"
      ],
      "text/plain": [
       "  Borough Neighborhood        Room Type  Price      ID      lats      lngs  \\\n",
       "0   Bronx     Allerton  Entire home/apt    125  182177  40.86553 -73.86247   \n",
       "1   Bronx     Allerton     Private room     35  498120  40.86553 -73.86247   \n",
       "2   Bronx     Allerton     Private room     39  715270  40.86553 -73.86247   \n",
       "3   Bronx     Allerton  Entire home/apt     49  755528  40.86553 -73.86247   \n",
       "4   Bronx     Allerton     Private room     38  773041  40.86553 -73.86247   \n",
       "\n",
       "  Price Summary per Neighborhood  \n",
       "0                        100-149  \n",
       "1                           < 50  \n",
       "2                           < 50  \n",
       "3                           < 50  \n",
       "4                           < 50  "
      ]
     },
     "execution_count": 13,
     "metadata": {},
     "output_type": "execute_result"
    }
   ],
   "source": [
    "# Create the bins in which Data will be held\n",
    "# Bins are 0, 59, 69, 79, 89, 100.   \n",
    "bins = [0, 49, 99, 149, 199, 249, 299, 10000]\n",
    "\n",
    "# Create the names for the four bins\n",
    "group_names = [\"< 50\", \"50-99\", \"100-149\", \"150-199\", \"200-249\", \"250-299\",\"> 300\"]\n",
    "\n",
    "BnN[\"Price Summary per Neighborhood\"] = pd.cut(BnN[\"Price\"], bins, labels=group_names)\n",
    "BnN.head()"
   ]
  },
  {
   "cell_type": "code",
   "execution_count": 14,
   "metadata": {},
   "outputs": [
    {
     "data": {
      "text/html": [
       "<div>\n",
       "<style scoped>\n",
       "    .dataframe tbody tr th:only-of-type {\n",
       "        vertical-align: middle;\n",
       "    }\n",
       "\n",
       "    .dataframe tbody tr th {\n",
       "        vertical-align: top;\n",
       "    }\n",
       "\n",
       "    .dataframe thead th {\n",
       "        text-align: right;\n",
       "    }\n",
       "</style>\n",
       "<table border=\"1\" class=\"dataframe\">\n",
       "  <thead>\n",
       "    <tr style=\"text-align: right;\">\n",
       "      <th></th>\n",
       "      <th>Price</th>\n",
       "    </tr>\n",
       "    <tr>\n",
       "      <th>Price Summary per Neighborhood</th>\n",
       "      <th></th>\n",
       "    </tr>\n",
       "  </thead>\n",
       "  <tbody>\n",
       "    <tr>\n",
       "      <td>&lt; 50</td>\n",
       "      <td>3103</td>\n",
       "    </tr>\n",
       "    <tr>\n",
       "      <td>50-99</td>\n",
       "      <td>10426</td>\n",
       "    </tr>\n",
       "    <tr>\n",
       "      <td>100-149</td>\n",
       "      <td>6207</td>\n",
       "    </tr>\n",
       "    <tr>\n",
       "      <td>150-199</td>\n",
       "      <td>4645</td>\n",
       "    </tr>\n",
       "    <tr>\n",
       "      <td>200-249</td>\n",
       "      <td>2408</td>\n",
       "    </tr>\n",
       "  </tbody>\n",
       "</table>\n",
       "</div>"
      ],
      "text/plain": [
       "                                Price\n",
       "Price Summary per Neighborhood       \n",
       "< 50                             3103\n",
       "50-99                           10426\n",
       "100-149                          6207\n",
       "150-199                          4645\n",
       "200-249                          2408"
      ]
     },
     "execution_count": 14,
     "metadata": {},
     "output_type": "execute_result"
    }
   ],
   "source": [
    "#number of apartments available per price group\n",
    "# Split up our data into groups based upon 'price'\n",
    "# Find out how many apts are available is each price range\n",
    "BnN_Price = BnN.groupby(\"Price Summary per Neighborhood\").count()\n",
    "apt_price = BnN_Price.drop(['Borough','Neighborhood','Room Type','lats','lngs','ID'], axis=1)\n",
    "apt_price.head()"
   ]
  },
  {
   "cell_type": "code",
   "execution_count": 15,
   "metadata": {},
   "outputs": [
    {
     "data": {
      "image/png": "[encoded data removed]",
      "text/plain": [
       "<Figure size 432x288 with 1 Axes>"
      ]
     },
     "metadata": {
      "needs_background": "light"
     },
     "output_type": "display_data"
    },
    {
     "data": {
      "text/plain": [
       "<Figure size 432x288 with 0 Axes>"
      ]
     },
     "metadata": {},
     "output_type": "display_data"
    }
   ],
   "source": [
    "import matplotlib.pyplot as plt\n",
    "\n",
    "# Chart our data, give it a title, and label the axes\n",
    "Apt_price = apt_price.plot(kind=\"bar\", title=\"Amount of Apartments Available per Price Range\")\n",
    "Apt_price.set_xlabel(\"Price Range\")\n",
    "Apt_price.set_ylabel(\"Apts per Price Range\")\n",
    "\n",
    "plt.show()\n",
    "plt.tight_layout()"
   ]
  },
  {
   "cell_type": "code",
   "execution_count": 16,
   "metadata": {},
   "outputs": [
    {
     "data": {
      "text/html": [
       "<div>\n",
       "<style scoped>\n",
       "    .dataframe tbody tr th:only-of-type {\n",
       "        vertical-align: middle;\n",
       "    }\n",
       "\n",
       "    .dataframe tbody tr th {\n",
       "        vertical-align: top;\n",
       "    }\n",
       "\n",
       "    .dataframe thead th {\n",
       "        text-align: right;\n",
       "    }\n",
       "</style>\n",
       "<table border=\"1\" class=\"dataframe\">\n",
       "  <thead>\n",
       "    <tr style=\"text-align: right;\">\n",
       "      <th></th>\n",
       "      <th>Yearly Availability</th>\n",
       "      <th>Room Type</th>\n",
       "    </tr>\n",
       "  </thead>\n",
       "  <tbody>\n",
       "    <tr>\n",
       "      <td>0</td>\n",
       "      <td>365</td>\n",
       "      <td>Private room</td>\n",
       "    </tr>\n",
       "    <tr>\n",
       "      <td>1</td>\n",
       "      <td>355</td>\n",
       "      <td>Entire home/apt</td>\n",
       "    </tr>\n",
       "    <tr>\n",
       "      <td>2</td>\n",
       "      <td>365</td>\n",
       "      <td>Private room</td>\n",
       "    </tr>\n",
       "    <tr>\n",
       "      <td>3</td>\n",
       "      <td>194</td>\n",
       "      <td>Entire home/apt</td>\n",
       "    </tr>\n",
       "    <tr>\n",
       "      <td>4</td>\n",
       "      <td>129</td>\n",
       "      <td>Entire home/apt</td>\n",
       "    </tr>\n",
       "  </tbody>\n",
       "</table>\n",
       "</div>"
      ],
      "text/plain": [
       "   Yearly Availability        Room Type\n",
       "0                  365     Private room\n",
       "1                  355  Entire home/apt\n",
       "2                  365     Private room\n",
       "3                  194  Entire home/apt\n",
       "4                  129  Entire home/apt"
      ]
     },
     "execution_count": 16,
     "metadata": {},
     "output_type": "execute_result"
    }
   ],
   "source": [
    "       # MANUELA\n",
    "\n",
    "first_df = airbnb_df[[\"Yearly Availability\", \"Room Type\"]]\n",
    "first_df.head()"
   ]
  },
  {
   "cell_type": "code",
   "execution_count": 17,
   "metadata": {},
   "outputs": [
    {
     "data": {
      "text/html": [
       "<div>\n",
       "<style scoped>\n",
       "    .dataframe tbody tr th:only-of-type {\n",
       "        vertical-align: middle;\n",
       "    }\n",
       "\n",
       "    .dataframe tbody tr th {\n",
       "        vertical-align: top;\n",
       "    }\n",
       "\n",
       "    .dataframe thead th {\n",
       "        text-align: right;\n",
       "    }\n",
       "</style>\n",
       "<table border=\"1\" class=\"dataframe\">\n",
       "  <thead>\n",
       "    <tr style=\"text-align: right;\">\n",
       "      <th></th>\n",
       "      <th>Room Type</th>\n",
       "      <th>Sum of Days Available During the Year</th>\n",
       "    </tr>\n",
       "  </thead>\n",
       "  <tbody>\n",
       "    <tr>\n",
       "      <td>0</td>\n",
       "      <td>Entire home/apt</td>\n",
       "      <td>16533</td>\n",
       "    </tr>\n",
       "    <tr>\n",
       "      <td>1</td>\n",
       "      <td>Private room</td>\n",
       "      <td>13965</td>\n",
       "    </tr>\n",
       "    <tr>\n",
       "      <td>2</td>\n",
       "      <td>Shared room</td>\n",
       "      <td>864</td>\n",
       "    </tr>\n",
       "  </tbody>\n",
       "</table>\n",
       "</div>"
      ],
      "text/plain": [
       "         Room Type  Sum of Days Available During the Year\n",
       "0  Entire home/apt                                  16533\n",
       "1     Private room                                  13965\n",
       "2      Shared room                                    864"
      ]
     },
     "execution_count": 17,
     "metadata": {},
     "output_type": "execute_result"
    }
   ],
   "source": [
    "roomtgrouped = first_df.groupby([\"Room Type\"]).count()\n",
    "roomtgroupeddf = pd.DataFrame(roomtgrouped)\n",
    "roomtgroupeddf.reset_index(level = None, inplace = True)\n",
    "roomtgroupeddf = roomtgroupeddf.rename(columns = {\"Yearly Availability\" : \"Sum of Days Available During the Year\"})\n",
    "roomtgroupeddf"
   ]
  },
  {
   "cell_type": "code",
   "execution_count": 18,
   "metadata": {},
   "outputs": [
    {
     "data": {
      "image/png": "[encoded data removed]",
      "text/plain": [
       "<Figure size 432x288 with 1 Axes>"
      ]
     },
     "metadata": {
      "needs_background": "light"
     },
     "output_type": "display_data"
    },
    {
     "data": {
      "text/plain": [
       "<Figure size 432x288 with 0 Axes>"
      ]
     },
     "metadata": {},
     "output_type": "display_data"
    }
   ],
   "source": [
    "y_axis = roomtgroupeddf[\"Sum of Days Available During the Year\"]\n",
    "x_axis = roomtgroupeddf[\"Room Type\"]\n",
    "plt.bar(x_axis, y_axis, color=\"b\", align=\"center\")\n",
    "plt.title(\"Room Type vs. Sum of Days Available During the Year\")\n",
    "plt.xlabel(\"Room Types\")\n",
    "plt.ylabel(\"Sum of Days Available During the Year\")\n",
    "\n",
    "\n",
    "plt.show()\n",
    "plt.tight_layout()"
   ]
  },
  {
   "cell_type": "code",
   "execution_count": 19,
   "metadata": {},
   "outputs": [],
   "source": [
    "# IN THE NEW YORK AREA, THERE'S HIGHER AVAILABILITY OF ENTIRE APARTMENTS THROUGHOUT THE YEAR (GREATER AMOUNT OF DAYS AVAILABLE). SECOND IS PRIVATE ROOMS, AND THIRD IS A SMALL AMOUNT OF SHARED ROOMS AVAILABLE."
   ]
  },
  {
   "cell_type": "code",
   "execution_count": 20,
   "metadata": {},
   "outputs": [
    {
     "data": {
      "text/html": [
       "<div>\n",
       "<style scoped>\n",
       "    .dataframe tbody tr th:only-of-type {\n",
       "        vertical-align: middle;\n",
       "    }\n",
       "\n",
       "    .dataframe tbody tr th {\n",
       "        vertical-align: top;\n",
       "    }\n",
       "\n",
       "    .dataframe thead th {\n",
       "        text-align: right;\n",
       "    }\n",
       "</style>\n",
       "<table border=\"1\" class=\"dataframe\">\n",
       "  <thead>\n",
       "    <tr style=\"text-align: right;\">\n",
       "      <th></th>\n",
       "      <th>Borough</th>\n",
       "      <th>Room Type</th>\n",
       "    </tr>\n",
       "  </thead>\n",
       "  <tbody>\n",
       "    <tr>\n",
       "      <td>0</td>\n",
       "      <td>Brooklyn</td>\n",
       "      <td>Private room</td>\n",
       "    </tr>\n",
       "    <tr>\n",
       "      <td>1</td>\n",
       "      <td>Manhattan</td>\n",
       "      <td>Entire home/apt</td>\n",
       "    </tr>\n",
       "    <tr>\n",
       "      <td>2</td>\n",
       "      <td>Manhattan</td>\n",
       "      <td>Private room</td>\n",
       "    </tr>\n",
       "    <tr>\n",
       "      <td>3</td>\n",
       "      <td>Brooklyn</td>\n",
       "      <td>Entire home/apt</td>\n",
       "    </tr>\n",
       "    <tr>\n",
       "      <td>4</td>\n",
       "      <td>Manhattan</td>\n",
       "      <td>Entire home/apt</td>\n",
       "    </tr>\n",
       "  </tbody>\n",
       "</table>\n",
       "</div>"
      ],
      "text/plain": [
       "     Borough        Room Type\n",
       "0   Brooklyn     Private room\n",
       "1  Manhattan  Entire home/apt\n",
       "2  Manhattan     Private room\n",
       "3   Brooklyn  Entire home/apt\n",
       "4  Manhattan  Entire home/apt"
      ]
     },
     "execution_count": 20,
     "metadata": {},
     "output_type": "execute_result"
    }
   ],
   "source": [
    "second_df = airbnb_df[[\"Borough\", \"Room Type\"]]\n",
    "second_df.head()"
   ]
  },
  {
   "cell_type": "code",
   "execution_count": 21,
   "metadata": {},
   "outputs": [
    {
     "data": {
      "text/html": [
       "<div>\n",
       "<style scoped>\n",
       "    .dataframe tbody tr th:only-of-type {\n",
       "        vertical-align: middle;\n",
       "    }\n",
       "\n",
       "    .dataframe tbody tr th {\n",
       "        vertical-align: top;\n",
       "    }\n",
       "\n",
       "    .dataframe thead th {\n",
       "        text-align: right;\n",
       "    }\n",
       "</style>\n",
       "<table border=\"1\" class=\"dataframe\">\n",
       "  <thead>\n",
       "    <tr style=\"text-align: right;\">\n",
       "      <th></th>\n",
       "      <th>Borough</th>\n",
       "      <th>Total Number of Rooms/ Apts</th>\n",
       "    </tr>\n",
       "  </thead>\n",
       "  <tbody>\n",
       "    <tr>\n",
       "      <td>0</td>\n",
       "      <td>Bronx</td>\n",
       "      <td>914</td>\n",
       "    </tr>\n",
       "    <tr>\n",
       "      <td>1</td>\n",
       "      <td>Brooklyn</td>\n",
       "      <td>12260</td>\n",
       "    </tr>\n",
       "    <tr>\n",
       "      <td>2</td>\n",
       "      <td>Manhattan</td>\n",
       "      <td>13559</td>\n",
       "    </tr>\n",
       "    <tr>\n",
       "      <td>3</td>\n",
       "      <td>Queens</td>\n",
       "      <td>4298</td>\n",
       "    </tr>\n",
       "    <tr>\n",
       "      <td>4</td>\n",
       "      <td>Staten Island</td>\n",
       "      <td>331</td>\n",
       "    </tr>\n",
       "  </tbody>\n",
       "</table>\n",
       "</div>"
      ],
      "text/plain": [
       "         Borough  Total Number of Rooms/ Apts\n",
       "0          Bronx                          914\n",
       "1       Brooklyn                        12260\n",
       "2      Manhattan                        13559\n",
       "3         Queens                         4298\n",
       "4  Staten Island                          331"
      ]
     },
     "execution_count": 21,
     "metadata": {},
     "output_type": "execute_result"
    }
   ],
   "source": [
    "boroughgrouped = second_df.groupby([\"Borough\"]).count()\n",
    "boroughgroupeddf = pd.DataFrame(boroughgrouped)\n",
    "boroughgroupeddf.reset_index(level = None, inplace = True)\n",
    "boroughgroupeddf = boroughgroupeddf.rename(columns = {\"Room Type\" : \"Total Number of Rooms/ Apts\"})\n",
    "boroughgroupeddf"
   ]
  },
  {
   "cell_type": "code",
   "execution_count": 22,
   "metadata": {},
   "outputs": [],
   "source": [
    "y2_axis = boroughgroupeddf[\"Borough\"]\n",
    "x2_axis = boroughgroupeddf[\"Total Number of Rooms/ Apts\"]\n",
    "colors = [\"red\", \"orange\", \"lightcoral\", \"lightskyblue\", \"blue\"]"
   ]
  },
  {
   "cell_type": "code",
   "execution_count": 23,
   "metadata": {},
   "outputs": [
    {
     "data": {
      "text/plain": [
       "([<matplotlib.patches.Wedge at 0x2131781ed30>,\n",
       "  <matplotlib.patches.Wedge at 0x2131782a6d8>,\n",
       "  <matplotlib.patches.Wedge at 0x2131782af60>,\n",
       "  <matplotlib.patches.Wedge at 0x2131783a898>,\n",
       "  <matplotlib.patches.Wedge at 0x213178461d0>],\n",
       " [Text(-0.9037660939152232, 0.6270620762645593, 'Bronx'),\n",
       "  Text(-0.8319780034936637, -0.719591968898137, 'Brooklyn'),\n",
       "  Text(1.086326435919438, 0.17290134361123816, 'Manhattan'),\n",
       "  Text(-0.4037305422910475, 1.023230985272327, 'Queens'),\n",
       "  Text(-0.8187458979751603, 0.734612247753091, 'Staten Island')],\n",
       " [Text(-0.4929633239537581, 0.3420338597806687, '2.91435%'),\n",
       "  Text(-0.4538061837238165, -0.3925047103080747, '39.09189%'),\n",
       "  Text(0.5925416923196933, 0.09430982378794807, '43.23385%'),\n",
       "  Text(-0.22021665943148042, 0.5581259919667237, '13.70448%'),\n",
       "  Text(-0.4465886716228146, 0.4006975896835041, '1.05542%')])"
      ]
     },
     "execution_count": 23,
     "metadata": {},
     "output_type": "execute_result"
    },
    {
     "data": {
      "image/png": "[encoded data removed]",
      "text/plain": [
       "<Figure size 432x288 with 1 Axes>"
      ]
     },
     "metadata": {},
     "output_type": "display_data"
    }
   ],
   "source": [
    "plt.pie(x2_axis, labels=y2_axis, colors=colors,\n",
    "        autopct='%1.5f%%', shadow=True, startangle=140)\n"
   ]
  },
  {
   "cell_type": "code",
   "execution_count": 24,
   "metadata": {},
   "outputs": [],
   "source": [
    "# THE HIGHEST NUMBER OF AVAILABLE ROOMS/ APTS ARE LOCATED IN MANHATTAN, EVEN THOUGH IS THE SMALLEST BOROUGH. NEXT IS BROOKLYN, FOLLOWED BY QUEENS."
   ]
  },
  {
   "cell_type": "code",
   "execution_count": 25,
   "metadata": {},
   "outputs": [
    {
     "data": {
      "text/html": [
       "<style  type=\"text/css\" >\n",
       "</style><table id=\"T_cfe0aca4_08e2_11ea_b1f2_a0510b7c6987\" ><thead>    <tr>        <th class=\"blank level0\" ></th>        <th class=\"col_heading level0 col0\" >Room Type</th>        <th class=\"col_heading level0 col1\" >Price</th>    </tr></thead><tbody>\n",
       "                <tr>\n",
       "                        <th id=\"T_cfe0aca4_08e2_11ea_b1f2_a0510b7c6987level0_row0\" class=\"row_heading level0 row0\" >0</th>\n",
       "                        <td id=\"T_cfe0aca4_08e2_11ea_b1f2_a0510b7c6987row0_col0\" class=\"data row0 col0\" >Entire home/apt</td>\n",
       "                        <td id=\"T_cfe0aca4_08e2_11ea_b1f2_a0510b7c6987row0_col1\" class=\"data row0 col1\" >$211.79</td>\n",
       "            </tr>\n",
       "            <tr>\n",
       "                        <th id=\"T_cfe0aca4_08e2_11ea_b1f2_a0510b7c6987level0_row1\" class=\"row_heading level0 row1\" >1</th>\n",
       "                        <td id=\"T_cfe0aca4_08e2_11ea_b1f2_a0510b7c6987row1_col0\" class=\"data row1 col0\" >Private room</td>\n",
       "                        <td id=\"T_cfe0aca4_08e2_11ea_b1f2_a0510b7c6987row1_col1\" class=\"data row1 col1\" >$89.78</td>\n",
       "            </tr>\n",
       "            <tr>\n",
       "                        <th id=\"T_cfe0aca4_08e2_11ea_b1f2_a0510b7c6987level0_row2\" class=\"row_heading level0 row2\" >2</th>\n",
       "                        <td id=\"T_cfe0aca4_08e2_11ea_b1f2_a0510b7c6987row2_col0\" class=\"data row2 col0\" >Shared room</td>\n",
       "                        <td id=\"T_cfe0aca4_08e2_11ea_b1f2_a0510b7c6987row2_col1\" class=\"data row2 col1\" >$70.13</td>\n",
       "            </tr>\n",
       "    </tbody></table>"
      ],
      "text/plain": [
       "<pandas.io.formats.style.Styler at 0x213177e9c50>"
      ]
     },
     "execution_count": 25,
     "metadata": {},
     "output_type": "execute_result"
    }
   ],
   "source": [
    "        #SURA\n",
    "# Groupby room type by Price average\n",
    "mean_price_of_rooms = nyc_airbnb.groupby([\"Room Type\"],as_index=False)\n",
    "\n",
    "# Create DataFrame\n",
    "avrg_price = pd.DataFrame(mean_price_of_rooms[\"Price\"].mean())\n",
    "\n",
    "# Formating currency\n",
    "avrg_price[\"Price\"] = avrg_price[\"Price\"].astype(float).map(\"${:,.2f}\".format)\n",
    "#pivot = avrg_price.pivot()\n",
    "\n",
    "avrg_price.style"
   ]
  },
  {
   "cell_type": "code",
   "execution_count": 26,
   "metadata": {},
   "outputs": [
    {
     "data": {
      "text/html": [
       "<style  type=\"text/css\" >\n",
       "</style><table id=\"T_cfe69ec6_08e2_11ea_8868_a0510b7c6987\" ><thead>    <tr>        <th class=\"blank level0\" ></th>        <th class=\"col_heading level0 col0\" >Total Rooms</th>        <th class=\"col_heading level0 col1\" >Per of Room Type</th>    </tr>    <tr>        <th class=\"index_name level0\" >Room Type</th>        <th class=\"blank\" ></th>        <th class=\"blank\" ></th>    </tr></thead><tbody>\n",
       "                <tr>\n",
       "                        <th id=\"T_cfe69ec6_08e2_11ea_8868_a0510b7c6987level0_row0\" class=\"row_heading level0 row0\" >Entire home/apt</th>\n",
       "                        <td id=\"T_cfe69ec6_08e2_11ea_8868_a0510b7c6987row0_col0\" class=\"data row0 col0\" >25409</td>\n",
       "                        <td id=\"T_cfe69ec6_08e2_11ea_8868_a0510b7c6987row0_col1\" class=\"data row0 col1\" >51.97%</td>\n",
       "            </tr>\n",
       "            <tr>\n",
       "                        <th id=\"T_cfe69ec6_08e2_11ea_8868_a0510b7c6987level0_row1\" class=\"row_heading level0 row1\" >Private room</th>\n",
       "                        <td id=\"T_cfe69ec6_08e2_11ea_8868_a0510b7c6987row1_col0\" class=\"data row1 col0\" >22326</td>\n",
       "                        <td id=\"T_cfe69ec6_08e2_11ea_8868_a0510b7c6987row1_col1\" class=\"data row1 col1\" >45.66%</td>\n",
       "            </tr>\n",
       "            <tr>\n",
       "                        <th id=\"T_cfe69ec6_08e2_11ea_8868_a0510b7c6987level0_row2\" class=\"row_heading level0 row2\" >Shared room</th>\n",
       "                        <td id=\"T_cfe69ec6_08e2_11ea_8868_a0510b7c6987row2_col0\" class=\"data row2 col0\" >1160</td>\n",
       "                        <td id=\"T_cfe69ec6_08e2_11ea_8868_a0510b7c6987row2_col1\" class=\"data row2 col1\" >2.37%</td>\n",
       "            </tr>\n",
       "    </tbody></table>"
      ],
      "text/plain": [
       "<pandas.io.formats.style.Styler at 0x213177e9cf8>"
      ]
     },
     "execution_count": 26,
     "metadata": {},
     "output_type": "execute_result"
    }
   ],
   "source": [
    "# Create Data Frame: Total Rooms and Percentage showing which rooms we have more\n",
    "room_categ = pd.DataFrame({\"Total Rooms\" : nyc_airbnb[\"Room Type\"].value_counts(),\n",
    "                           \"Per of Room Type\" : nyc_airbnb[\"Room Type\"].value_counts()/nyc_airbnb[\"Room Type\"].count()/1})\n",
    "\n",
    "\n",
    "# Set Index and Index name\n",
    "index = [\"Entire home/apt\", \"Private room\", \"Shared room\"]\n",
    "room_categ.index.name = \"Room Type\"\n",
    "\n",
    "# Format with percentage and currency style\n",
    "room_categ[\"Per of Room Type\"] = room_categ[\"Per of Room Type\"].astype(float).map(\"{:.2%}\".format)\n",
    "room_categ.style"
   ]
  },
  {
   "cell_type": "code",
   "execution_count": 27,
   "metadata": {},
   "outputs": [
    {
     "data": {
      "text/html": [
       "<style  type=\"text/css\" >\n",
       "</style><table id=\"T_cfe9e394_08e2_11ea_86b7_a0510b7c6987\" ><thead>    <tr>        <th class=\"blank level0\" ></th>        <th class=\"col_heading level0 col0\" >Borough</th>        <th class=\"col_heading level0 col1\" >Price</th>    </tr></thead><tbody>\n",
       "                <tr>\n",
       "                        <th id=\"T_cfe9e394_08e2_11ea_86b7_a0510b7c6987level0_row0\" class=\"row_heading level0 row0\" >0</th>\n",
       "                        <td id=\"T_cfe9e394_08e2_11ea_86b7_a0510b7c6987row0_col0\" class=\"data row0 col0\" >Bronx</td>\n",
       "                        <td id=\"T_cfe9e394_08e2_11ea_86b7_a0510b7c6987row0_col1\" class=\"data row0 col1\" >$87.50</td>\n",
       "            </tr>\n",
       "            <tr>\n",
       "                        <th id=\"T_cfe9e394_08e2_11ea_86b7_a0510b7c6987level0_row1\" class=\"row_heading level0 row1\" >1</th>\n",
       "                        <td id=\"T_cfe9e394_08e2_11ea_86b7_a0510b7c6987row1_col0\" class=\"data row1 col0\" >Brooklyn</td>\n",
       "                        <td id=\"T_cfe9e394_08e2_11ea_86b7_a0510b7c6987row1_col1\" class=\"data row1 col1\" >$124.38</td>\n",
       "            </tr>\n",
       "            <tr>\n",
       "                        <th id=\"T_cfe9e394_08e2_11ea_86b7_a0510b7c6987level0_row2\" class=\"row_heading level0 row2\" >2</th>\n",
       "                        <td id=\"T_cfe9e394_08e2_11ea_86b7_a0510b7c6987row2_col0\" class=\"data row2 col0\" >Manhattan</td>\n",
       "                        <td id=\"T_cfe9e394_08e2_11ea_86b7_a0510b7c6987row2_col1\" class=\"data row2 col1\" >$196.88</td>\n",
       "            </tr>\n",
       "            <tr>\n",
       "                        <th id=\"T_cfe9e394_08e2_11ea_86b7_a0510b7c6987level0_row3\" class=\"row_heading level0 row3\" >3</th>\n",
       "                        <td id=\"T_cfe9e394_08e2_11ea_86b7_a0510b7c6987row3_col0\" class=\"data row3 col0\" >Queens</td>\n",
       "                        <td id=\"T_cfe9e394_08e2_11ea_86b7_a0510b7c6987row3_col1\" class=\"data row3 col1\" >$99.52</td>\n",
       "            </tr>\n",
       "            <tr>\n",
       "                        <th id=\"T_cfe9e394_08e2_11ea_86b7_a0510b7c6987level0_row4\" class=\"row_heading level0 row4\" >4</th>\n",
       "                        <td id=\"T_cfe9e394_08e2_11ea_86b7_a0510b7c6987row4_col0\" class=\"data row4 col0\" >Staten Island</td>\n",
       "                        <td id=\"T_cfe9e394_08e2_11ea_86b7_a0510b7c6987row4_col1\" class=\"data row4 col1\" >$114.81</td>\n",
       "            </tr>\n",
       "    </tbody></table>"
      ],
      "text/plain": [
       "<pandas.io.formats.style.Styler at 0x2131786ce48>"
      ]
     },
     "execution_count": 27,
     "metadata": {},
     "output_type": "execute_result"
    }
   ],
   "source": [
    "# Group by Cities\n",
    "group_city = nyc_airbnb.groupby([\"Borough\"],as_index=False)\n",
    "\n",
    "# Create Data Frame by Price\n",
    "city_avrg_prices = pd.DataFrame(group_city[\"Price\"].mean())\n",
    "\n",
    "# Create formating currency for Price column\n",
    "city_avrg_prices[\"Price\"] = city_avrg_prices[\"Price\"].astype(float).map(\"${:,.2f}\".format)\n",
    "\n",
    "# Show Data Frame by style (bold index)\n",
    "city_avrg_prices.style"
   ]
  },
  {
   "cell_type": "code",
   "execution_count": 28,
   "metadata": {},
   "outputs": [
    {
     "name": "stdout",
     "output_type": "stream",
     "text": [
      "Room Category:\n",
      "-----------------\n"
     ]
    },
    {
     "data": {
      "text/html": [
       "<div>\n",
       "<style scoped>\n",
       "    .dataframe tbody tr th:only-of-type {\n",
       "        vertical-align: middle;\n",
       "    }\n",
       "\n",
       "    .dataframe tbody tr th {\n",
       "        vertical-align: top;\n",
       "    }\n",
       "\n",
       "    .dataframe thead th {\n",
       "        text-align: right;\n",
       "    }\n",
       "</style>\n",
       "<table border=\"1\" class=\"dataframe\">\n",
       "  <thead>\n",
       "    <tr style=\"text-align: right;\">\n",
       "      <th></th>\n",
       "      <th>Total Rooms</th>\n",
       "      <th>Per of Room Type</th>\n",
       "    </tr>\n",
       "    <tr>\n",
       "      <th>Room Type</th>\n",
       "      <th></th>\n",
       "      <th></th>\n",
       "    </tr>\n",
       "  </thead>\n",
       "  <tbody>\n",
       "    <tr>\n",
       "      <td>Entire home/apt</td>\n",
       "      <td>25409</td>\n",
       "      <td>51.97%</td>\n",
       "    </tr>\n",
       "    <tr>\n",
       "      <td>Private room</td>\n",
       "      <td>22326</td>\n",
       "      <td>45.66%</td>\n",
       "    </tr>\n",
       "    <tr>\n",
       "      <td>Shared room</td>\n",
       "      <td>1160</td>\n",
       "      <td>2.37%</td>\n",
       "    </tr>\n",
       "  </tbody>\n",
       "</table>\n",
       "</div>"
      ],
      "text/plain": [
       "                 Total Rooms Per of Room Type\n",
       "Room Type                                    \n",
       "Entire home/apt        25409           51.97%\n",
       "Private room           22326           45.66%\n",
       "Shared room             1160            2.37%"
      ]
     },
     "metadata": {},
     "output_type": "display_data"
    },
    {
     "name": "stdout",
     "output_type": "stream",
     "text": [
      "Avarage Price:\n",
      "-----------------\n"
     ]
    },
    {
     "data": {
      "text/html": [
       "<div>\n",
       "<style scoped>\n",
       "    .dataframe tbody tr th:only-of-type {\n",
       "        vertical-align: middle;\n",
       "    }\n",
       "\n",
       "    .dataframe tbody tr th {\n",
       "        vertical-align: top;\n",
       "    }\n",
       "\n",
       "    .dataframe thead th {\n",
       "        text-align: right;\n",
       "    }\n",
       "</style>\n",
       "<table border=\"1\" class=\"dataframe\">\n",
       "  <thead>\n",
       "    <tr style=\"text-align: right;\">\n",
       "      <th></th>\n",
       "      <th>Room Type</th>\n",
       "      <th>Price</th>\n",
       "    </tr>\n",
       "  </thead>\n",
       "  <tbody>\n",
       "    <tr>\n",
       "      <td>0</td>\n",
       "      <td>Entire home/apt</td>\n",
       "      <td>$211.79</td>\n",
       "    </tr>\n",
       "    <tr>\n",
       "      <td>1</td>\n",
       "      <td>Private room</td>\n",
       "      <td>$89.78</td>\n",
       "    </tr>\n",
       "    <tr>\n",
       "      <td>2</td>\n",
       "      <td>Shared room</td>\n",
       "      <td>$70.13</td>\n",
       "    </tr>\n",
       "  </tbody>\n",
       "</table>\n",
       "</div>"
      ],
      "text/plain": [
       "         Room Type    Price\n",
       "0  Entire home/apt  $211.79\n",
       "1     Private room   $89.78\n",
       "2      Shared room   $70.13"
      ]
     },
     "metadata": {},
     "output_type": "display_data"
    },
    {
     "name": "stdout",
     "output_type": "stream",
     "text": [
      "Borough:\n",
      "-----------------\n"
     ]
    },
    {
     "data": {
      "text/html": [
       "<div>\n",
       "<style scoped>\n",
       "    .dataframe tbody tr th:only-of-type {\n",
       "        vertical-align: middle;\n",
       "    }\n",
       "\n",
       "    .dataframe tbody tr th {\n",
       "        vertical-align: top;\n",
       "    }\n",
       "\n",
       "    .dataframe thead th {\n",
       "        text-align: right;\n",
       "    }\n",
       "</style>\n",
       "<table border=\"1\" class=\"dataframe\">\n",
       "  <thead>\n",
       "    <tr style=\"text-align: right;\">\n",
       "      <th></th>\n",
       "      <th>Borough</th>\n",
       "      <th>Price</th>\n",
       "    </tr>\n",
       "  </thead>\n",
       "  <tbody>\n",
       "    <tr>\n",
       "      <td>0</td>\n",
       "      <td>Bronx</td>\n",
       "      <td>$87.50</td>\n",
       "    </tr>\n",
       "    <tr>\n",
       "      <td>1</td>\n",
       "      <td>Brooklyn</td>\n",
       "      <td>$124.38</td>\n",
       "    </tr>\n",
       "    <tr>\n",
       "      <td>2</td>\n",
       "      <td>Manhattan</td>\n",
       "      <td>$196.88</td>\n",
       "    </tr>\n",
       "    <tr>\n",
       "      <td>3</td>\n",
       "      <td>Queens</td>\n",
       "      <td>$99.52</td>\n",
       "    </tr>\n",
       "    <tr>\n",
       "      <td>4</td>\n",
       "      <td>Staten Island</td>\n",
       "      <td>$114.81</td>\n",
       "    </tr>\n",
       "  </tbody>\n",
       "</table>\n",
       "</div>"
      ],
      "text/plain": [
       "         Borough    Price\n",
       "0          Bronx   $87.50\n",
       "1       Brooklyn  $124.38\n",
       "2      Manhattan  $196.88\n",
       "3         Queens   $99.52\n",
       "4  Staten Island  $114.81"
      ]
     },
     "metadata": {},
     "output_type": "display_data"
    }
   ],
   "source": [
    "# Print both datas inside the window for preview\n",
    "pd.set_option(\"display.max_rows\", None)\n",
    "print (\"Room Category:\")\n",
    "print (\"-----------------\")\n",
    "display(room_categ)\n",
    "print (\"Avarage Price:\")\n",
    "print (\"-----------------\")\n",
    "display(avrg_price)\n",
    "print (\"Borough:\")\n",
    "print (\"-----------------\")\n",
    "display(city_avrg_prices)"
   ]
  },
  {
   "cell_type": "code",
   "execution_count": 29,
   "metadata": {},
   "outputs": [
    {
     "data": {
      "text/html": [
       "<style  type=\"text/css\" >\n",
       "</style><table id=\"T_cfefb540_08e2_11ea_ac13_a0510b7c6987\" ><thead>    <tr>        <th class=\"blank level0\" ></th>        <th class=\"col_heading level0 col0\" >Room Type</th>        <th class=\"col_heading level0 col1\" >Price</th>        <th class=\"col_heading level0 col2\" >Total Rooms</th>        <th class=\"col_heading level0 col3\" >Per of Room Type</th>    </tr></thead><tbody>\n",
       "                <tr>\n",
       "                        <th id=\"T_cfefb540_08e2_11ea_ac13_a0510b7c6987level0_row0\" class=\"row_heading level0 row0\" >0</th>\n",
       "                        <td id=\"T_cfefb540_08e2_11ea_ac13_a0510b7c6987row0_col0\" class=\"data row0 col0\" >Entire home/apt</td>\n",
       "                        <td id=\"T_cfefb540_08e2_11ea_ac13_a0510b7c6987row0_col1\" class=\"data row0 col1\" >$211.79</td>\n",
       "                        <td id=\"T_cfefb540_08e2_11ea_ac13_a0510b7c6987row0_col2\" class=\"data row0 col2\" >25409</td>\n",
       "                        <td id=\"T_cfefb540_08e2_11ea_ac13_a0510b7c6987row0_col3\" class=\"data row0 col3\" >51.97%</td>\n",
       "            </tr>\n",
       "            <tr>\n",
       "                        <th id=\"T_cfefb540_08e2_11ea_ac13_a0510b7c6987level0_row1\" class=\"row_heading level0 row1\" >1</th>\n",
       "                        <td id=\"T_cfefb540_08e2_11ea_ac13_a0510b7c6987row1_col0\" class=\"data row1 col0\" >Private room</td>\n",
       "                        <td id=\"T_cfefb540_08e2_11ea_ac13_a0510b7c6987row1_col1\" class=\"data row1 col1\" >$89.78</td>\n",
       "                        <td id=\"T_cfefb540_08e2_11ea_ac13_a0510b7c6987row1_col2\" class=\"data row1 col2\" >22326</td>\n",
       "                        <td id=\"T_cfefb540_08e2_11ea_ac13_a0510b7c6987row1_col3\" class=\"data row1 col3\" >45.66%</td>\n",
       "            </tr>\n",
       "            <tr>\n",
       "                        <th id=\"T_cfefb540_08e2_11ea_ac13_a0510b7c6987level0_row2\" class=\"row_heading level0 row2\" >2</th>\n",
       "                        <td id=\"T_cfefb540_08e2_11ea_ac13_a0510b7c6987row2_col0\" class=\"data row2 col0\" >Shared room</td>\n",
       "                        <td id=\"T_cfefb540_08e2_11ea_ac13_a0510b7c6987row2_col1\" class=\"data row2 col1\" >$70.13</td>\n",
       "                        <td id=\"T_cfefb540_08e2_11ea_ac13_a0510b7c6987row2_col2\" class=\"data row2 col2\" >1160</td>\n",
       "                        <td id=\"T_cfefb540_08e2_11ea_ac13_a0510b7c6987row2_col3\" class=\"data row2 col3\" >2.37%</td>\n",
       "            </tr>\n",
       "    </tbody></table>"
      ],
      "text/plain": [
       "<pandas.io.formats.style.Styler at 0x2131786c6a0>"
      ]
     },
     "execution_count": 29,
     "metadata": {},
     "output_type": "execute_result"
    }
   ],
   "source": [
    "# Merge both DataFrames\n",
    "merge_room_type = pd.merge(avrg_price, room_categ, on=\"Room Type\")\n",
    "pd.DataFrame(merge_room_type)\n",
    "merge_room_type.style"
   ]
  },
  {
   "cell_type": "code",
   "execution_count": 30,
   "metadata": {},
   "outputs": [
    {
     "data": {
      "text/html": [
       "<div>\n",
       "<style scoped>\n",
       "    .dataframe tbody tr th:only-of-type {\n",
       "        vertical-align: middle;\n",
       "    }\n",
       "\n",
       "    .dataframe tbody tr th {\n",
       "        vertical-align: top;\n",
       "    }\n",
       "\n",
       "    .dataframe thead th {\n",
       "        text-align: right;\n",
       "    }\n",
       "</style>\n",
       "<table border=\"1\" class=\"dataframe\">\n",
       "  <thead>\n",
       "    <tr style=\"text-align: right;\">\n",
       "      <th></th>\n",
       "      <th>Room Type</th>\n",
       "      <th>Price</th>\n",
       "      <th>Total Rooms</th>\n",
       "      <th>Per of Room Type</th>\n",
       "      <th>Borough</th>\n",
       "    </tr>\n",
       "  </thead>\n",
       "  <tbody>\n",
       "    <tr>\n",
       "      <td>0</td>\n",
       "      <td>Entire home/apt</td>\n",
       "      <td>$211.79</td>\n",
       "      <td>25409</td>\n",
       "      <td>51.97%</td>\n",
       "      <td>Brooklyn</td>\n",
       "    </tr>\n",
       "    <tr>\n",
       "      <td>1</td>\n",
       "      <td>Private room</td>\n",
       "      <td>$89.78</td>\n",
       "      <td>22326</td>\n",
       "      <td>45.66%</td>\n",
       "      <td>Manhattan</td>\n",
       "    </tr>\n",
       "    <tr>\n",
       "      <td>2</td>\n",
       "      <td>Shared room</td>\n",
       "      <td>$70.13</td>\n",
       "      <td>1160</td>\n",
       "      <td>2.37%</td>\n",
       "      <td>Manhattan</td>\n",
       "    </tr>\n",
       "  </tbody>\n",
       "</table>\n",
       "</div>"
      ],
      "text/plain": [
       "         Room Type    Price  Total Rooms Per of Room Type    Borough\n",
       "0  Entire home/apt  $211.79        25409           51.97%   Brooklyn\n",
       "1     Private room   $89.78        22326           45.66%  Manhattan\n",
       "2      Shared room   $70.13         1160            2.37%  Manhattan"
      ]
     },
     "execution_count": 30,
     "metadata": {},
     "output_type": "execute_result"
    }
   ],
   "source": [
    "# Adding Cities column to Data Frame\n",
    "city_list = nyc_airbnb[\"Borough\"]\n",
    "merge_room_type[\"Borough\"] = city_list\n",
    "  \n",
    "# Lock table\n",
    "locked_table = merge_room_type.loc[:, [\"Room Type\", \"Price\", \"Total Rooms\", \"Per of Room Type\", \"Borough\"]]\n",
    "locked_table"
   ]
  },
  {
   "cell_type": "code",
   "execution_count": 31,
   "metadata": {},
   "outputs": [],
   "source": [
    "# Remove $ from Price column - for be able to create the error bar\n",
    "locked_table['Price']=locked_table['Price'].apply(lambda x:float(x.strip('$')))"
   ]
  },
  {
   "cell_type": "code",
   "execution_count": 32,
   "metadata": {},
   "outputs": [
    {
     "data": {
      "text/plain": [
       "<matplotlib.axes._subplots.AxesSubplot at 0x2131787d9b0>"
      ]
     },
     "execution_count": 32,
     "metadata": {},
     "output_type": "execute_result"
    },
    {
     "data": {
      "image/png": "[encoded data removed]",
      "text/plain": [
       "<Figure size 432x288 with 1 Axes>"
      ]
     },
     "metadata": {
      "needs_background": "light"
     },
     "output_type": "display_data"
    }
   ],
   "source": [
    "# Grouping by Cities and Room Type\n",
    "# Setting index by false to see nice Data Frame\n",
    "airbnb_new = locked_table.groupby([\"Borough\", \"Room Type\"],as_index=False)[\"Price\"].mean()\n",
    "\n",
    "# Show Data Frame by index style\n",
    "airbnb_new.style\n",
    "\n",
    "# Show Bar by seaborn (it's will shows you matplotlib errors bar by different color)\n",
    "sns.barplot(airbnb_new[\"Room Type\"], airbnb_new[\"Price\"])"
   ]
  },
  {
   "cell_type": "code",
   "execution_count": 33,
   "metadata": {},
   "outputs": [
    {
     "data": {
      "image/png": "[encoded data removed]",
      "text/plain": [
       "<Figure size 432x288 with 1 Axes>"
      ]
     },
     "metadata": {
      "needs_background": "light"
     },
     "output_type": "display_data"
    }
   ],
   "source": [
    "# Defind y values by price\n",
    "y = airbnb_new[\"Price\"].values\n",
    "\n",
    "# Create plt bar\n",
    "airbnb_bar = plt.bar(airbnb_new[\"Room Type\"],airbnb_new[\"Price\"], color = \"r\")\n",
    "\n",
    "#Creating title \n",
    "plt.title(\"Room Type -vs- Price\")\n",
    "\n",
    "# Set up price by Roofor each bar\n",
    "def autolabel(rects):\n",
    "    for i,rect in enumerate(rects):\n",
    "        plt.text(rect.get_x() + rect.get_width()/2., 2, '$%s'% (y[i]), ha=\"center\", va=\"bottom\", \n",
    "                 color=\"white\", weight=\"bold\")\n",
    "                  \n",
    "\n",
    "autolabel(airbnb_bar)"
   ]
  },
  {
   "cell_type": "code",
   "execution_count": 34,
   "metadata": {},
   "outputs": [
    {
     "data": {
      "image/png": "[encoded data removed]",
      "text/plain": [
       "<Figure size 432x288 with 1 Axes>"
      ]
     },
     "metadata": {
      "needs_background": "light"
     },
     "output_type": "display_data"
    }
   ],
   "source": [
    "# Set price and room type for new DataFrame\n",
    "prices = airbnb_new[\"Price\"].values\n",
    "type_of_r = airbnb_new[\"Room Type\"]\n",
    "\n",
    "# Create new Data Frame\n",
    "data = pd.DataFrame({\"in\": [1,2,3], \"r\": type_of_r, \"p\": prices})\n",
    "\n",
    "# Set 3D projection \n",
    "fig = plt.figure()\n",
    "ax = fig.add_subplot(111, projection='3d')\n",
    "\n",
    "# Show projection\n",
    "ax\n",
    "\n",
    "# Create pivot table\n",
    "piv_tbl = pd.pivot_table(data, values=\"p\", index=\"in\", columns=\"r\")\n",
    "\n",
    "# Set all x, y  for 3D graph\n",
    "xpos = np.arange(piv_tbl.shape[0])\n",
    "ypos = np.arange(piv_tbl.shape[1])\n",
    "xpos, ypos = np.meshgrid(xpos+0.25, ypos+0.25)\n",
    "\n",
    "xpos = xpos.flatten()\n",
    "ypos = ypos.flatten()\n",
    "zpos = np.zeros(piv_tbl.shape).flatten()\n",
    "\n",
    "# Set delta x, y, z\n",
    "dx = 0.5 * np.ones_like(zpos)\n",
    "dy = 0.5 * np.ones_like(zpos)\n",
    "dz = piv_tbl.values.ravel()\n",
    "# Setting \n",
    "dz[np.isnan(dz)] = 0.\n",
    "\n",
    "# Set 3D graph - adding color and shape \n",
    "    # with alpha showing dept(thickness)\n",
    "ax.bar3d(xpos, ypos, zpos, dx, dy, dz, color=\"c\", alpha=0.9)\n",
    "\n",
    "\n",
    "ax.set_xticks([.5, 1.5, 2.5])\n",
    "ax.set_yticks([1.5, 2.5, 3.5])\n",
    "\n",
    "# Set index and columns of graph\n",
    "ax.w_xaxis.set_ticklabels(piv_tbl.index)\n",
    "ax.w_yaxis.set_ticklabels(piv_tbl.columns, rotation=6)\n",
    "\n",
    "# Set grid colors and linestyle\n",
    "    #ax.zaxis._axinfo[\"grid\"]['color'] = \"c\"\n",
    "    #ax.zaxis._axinfo[\"grid\"]['linestyle'] = \"-\"\n",
    "\n",
    "# Formating for label and tight\n",
    "fig.tight_layout()\n",
    "ax.set_zlabel(\"Price\")\n",
    "\n",
    "# Show 3D histogram\n",
    "plt.show()"
   ]
  },
  {
   "cell_type": "markdown",
   "metadata": {},
   "source": [
    "## Yearly Availability By Borough"
   ]
  },
  {
   "cell_type": "code",
   "execution_count": 43,
   "metadata": {},
   "outputs": [
    {
     "data": {
      "text/html": [
       "<div>\n",
       "<style scoped>\n",
       "    .dataframe tbody tr th:only-of-type {\n",
       "        vertical-align: middle;\n",
       "    }\n",
       "\n",
       "    .dataframe tbody tr th {\n",
       "        vertical-align: top;\n",
       "    }\n",
       "\n",
       "    .dataframe thead th {\n",
       "        text-align: right;\n",
       "    }\n",
       "</style>\n",
       "<table border=\"1\" class=\"dataframe\">\n",
       "  <thead>\n",
       "    <tr style=\"text-align: right;\">\n",
       "      <th></th>\n",
       "      <th>Borough</th>\n",
       "      <th>Yearly Availability</th>\n",
       "    </tr>\n",
       "  </thead>\n",
       "  <tbody>\n",
       "    <tr>\n",
       "      <td>0</td>\n",
       "      <td>Bronx</td>\n",
       "      <td>180843</td>\n",
       "    </tr>\n",
       "    <tr>\n",
       "      <td>1</td>\n",
       "      <td>Brooklyn</td>\n",
       "      <td>2015070</td>\n",
       "    </tr>\n",
       "    <tr>\n",
       "      <td>2</td>\n",
       "      <td>Manhattan</td>\n",
       "      <td>2425586</td>\n",
       "    </tr>\n",
       "    <tr>\n",
       "      <td>3</td>\n",
       "      <td>Queens</td>\n",
       "      <td>818464</td>\n",
       "    </tr>\n",
       "    <tr>\n",
       "      <td>4</td>\n",
       "      <td>Staten Island</td>\n",
       "      <td>74480</td>\n",
       "    </tr>\n",
       "  </tbody>\n",
       "</table>\n",
       "</div>"
      ],
      "text/plain": [
       "         Borough  Yearly Availability\n",
       "0          Bronx               180843\n",
       "1       Brooklyn              2015070\n",
       "2      Manhattan              2425586\n",
       "3         Queens               818464\n",
       "4  Staten Island                74480"
      ]
     },
     "execution_count": 43,
     "metadata": {},
     "output_type": "execute_result"
    }
   ],
   "source": [
    "borough_df =airbnb_df.groupby(['Borough'],as_index=False)['Yearly Availability'].sum()\n",
    "borough_df"
   ]
  },
  {
   "cell_type": "code",
   "execution_count": 44,
   "metadata": {},
   "outputs": [],
   "source": [
    "# Set x axis and tick locations\n",
    "x_axis = np.arange(len(borough_df))\n",
    "tick_locations = [value+0.4 for value in x_axis]"
   ]
  },
  {
   "cell_type": "code",
   "execution_count": 45,
   "metadata": {},
   "outputs": [
    {
     "data": {
      "text/plain": [
       "([<matplotlib.axis.XTick at 0x21317bddef0>,\n",
       "  <matplotlib.axis.XTick at 0x213179e96d8>,\n",
       "  <matplotlib.axis.XTick at 0x21317bf2c88>,\n",
       "  <matplotlib.axis.XTick at 0x21317c5cd30>,\n",
       "  <matplotlib.axis.XTick at 0x21317c69278>],\n",
       " <a list of 5 Text xticklabel objects>)"
      ]
     },
     "execution_count": 45,
     "metadata": {},
     "output_type": "execute_result"
    },
    {
     "data": {
      "image/png": "[encoded data removed]",
      "text/plain": [
       "<Figure size 720x720 with 1 Axes>"
      ]
     },
     "metadata": {
      "needs_background": "light"
     },
     "output_type": "display_data"
    }
   ],
   "source": [
    "# Create a list indicating where to write x labels and set figure size to adjust for space\n",
    "plt.figure(figsize=(10,10))\n",
    "plt.bar(x_axis, borough_df[\"Yearly Availability\"], color='b', alpha=0.5, align=\"center\")\n",
    "plt.xticks(borough_df.index, borough_df[\"Borough\"], rotation=\"vertical\")"
   ]
  },
  {
   "cell_type": "markdown",
   "metadata": {},
   "source": [
    "## More likely to have room available: Brooklyn, Manhattan, Queens. Borough with less availability: Bronx & Staten Island "
   ]
  },
  {
   "cell_type": "markdown",
   "metadata": {},
   "source": [
    "## Yearly Availability By Neighborhood"
   ]
  },
  {
   "cell_type": "code",
   "execution_count": 49,
   "metadata": {},
   "outputs": [
    {
     "data": {
      "text/html": [
       "<div>\n",
       "<style scoped>\n",
       "    .dataframe tbody tr th:only-of-type {\n",
       "        vertical-align: middle;\n",
       "    }\n",
       "\n",
       "    .dataframe tbody tr th {\n",
       "        vertical-align: top;\n",
       "    }\n",
       "\n",
       "    .dataframe thead th {\n",
       "        text-align: right;\n",
       "    }\n",
       "</style>\n",
       "<table border=\"1\" class=\"dataframe\">\n",
       "  <thead>\n",
       "    <tr style=\"text-align: right;\">\n",
       "      <th></th>\n",
       "      <th>Borough</th>\n",
       "      <th>Neighborhood</th>\n",
       "      <th>Yearly Availability</th>\n",
       "    </tr>\n",
       "  </thead>\n",
       "  <tbody>\n",
       "    <tr>\n",
       "      <td>0</td>\n",
       "      <td>Bronx</td>\n",
       "      <td>Allerton</td>\n",
       "      <td>185.783784</td>\n",
       "    </tr>\n",
       "    <tr>\n",
       "      <td>1</td>\n",
       "      <td>Bronx</td>\n",
       "      <td>Baychester</td>\n",
       "      <td>184.166667</td>\n",
       "    </tr>\n",
       "    <tr>\n",
       "      <td>2</td>\n",
       "      <td>Bronx</td>\n",
       "      <td>Belmont</td>\n",
       "      <td>264.941176</td>\n",
       "    </tr>\n",
       "    <tr>\n",
       "      <td>3</td>\n",
       "      <td>Bronx</td>\n",
       "      <td>Bronxdale</td>\n",
       "      <td>212.538462</td>\n",
       "    </tr>\n",
       "    <tr>\n",
       "      <td>4</td>\n",
       "      <td>Bronx</td>\n",
       "      <td>Castle Hill</td>\n",
       "      <td>159.333333</td>\n",
       "    </tr>\n",
       "  </tbody>\n",
       "</table>\n",
       "</div>"
      ],
      "text/plain": [
       "  Borough Neighborhood  Yearly Availability\n",
       "0   Bronx     Allerton           185.783784\n",
       "1   Bronx   Baychester           184.166667\n",
       "2   Bronx      Belmont           264.941176\n",
       "3   Bronx    Bronxdale           212.538462\n",
       "4   Bronx  Castle Hill           159.333333"
      ]
     },
     "execution_count": 49,
     "metadata": {},
     "output_type": "execute_result"
    }
   ],
   "source": [
    "newdf = airbnb_df.groupby(['Borough','Neighborhood'],as_index=False)['Yearly Availability'].mean()\n",
    "newdf.head()"
   ]
  },
  {
   "cell_type": "code",
   "execution_count": 50,
   "metadata": {},
   "outputs": [
    {
     "data": {
      "text/html": [
       "<div>\n",
       "<style scoped>\n",
       "    .dataframe tbody tr th:only-of-type {\n",
       "        vertical-align: middle;\n",
       "    }\n",
       "\n",
       "    .dataframe tbody tr th {\n",
       "        vertical-align: top;\n",
       "    }\n",
       "\n",
       "    .dataframe thead th {\n",
       "        text-align: right;\n",
       "    }\n",
       "</style>\n",
       "<table border=\"1\" class=\"dataframe\">\n",
       "  <thead>\n",
       "    <tr style=\"text-align: right;\">\n",
       "      <th></th>\n",
       "      <th>Borough</th>\n",
       "      <th>Neighborhood</th>\n",
       "      <th>Yearly Availability</th>\n",
       "    </tr>\n",
       "  </thead>\n",
       "  <tbody>\n",
       "    <tr>\n",
       "      <td>0</td>\n",
       "      <td>Bronx</td>\n",
       "      <td>Co-op City</td>\n",
       "      <td>364.000000</td>\n",
       "    </tr>\n",
       "    <tr>\n",
       "      <td>1</td>\n",
       "      <td>Bronx</td>\n",
       "      <td>Concourse</td>\n",
       "      <td>205.179487</td>\n",
       "    </tr>\n",
       "    <tr>\n",
       "      <td>2</td>\n",
       "      <td>Bronx</td>\n",
       "      <td>Fordham</td>\n",
       "      <td>161.500000</td>\n",
       "    </tr>\n",
       "    <tr>\n",
       "      <td>3</td>\n",
       "      <td>Bronx</td>\n",
       "      <td>North Riverdale</td>\n",
       "      <td>207.500000</td>\n",
       "    </tr>\n",
       "    <tr>\n",
       "      <td>4</td>\n",
       "      <td>Bronx</td>\n",
       "      <td>Parkchester</td>\n",
       "      <td>176.677419</td>\n",
       "    </tr>\n",
       "  </tbody>\n",
       "</table>\n",
       "</div>"
      ],
      "text/plain": [
       "  Borough     Neighborhood  Yearly Availability\n",
       "0   Bronx       Co-op City           364.000000\n",
       "1   Bronx        Concourse           205.179487\n",
       "2   Bronx          Fordham           161.500000\n",
       "3   Bronx  North Riverdale           207.500000\n",
       "4   Bronx      Parkchester           176.677419"
      ]
     },
     "execution_count": 50,
     "metadata": {},
     "output_type": "execute_result"
    }
   ],
   "source": [
    "newnew = newdf.drop([0, 1, 2, 3,4,5,6,11,12,13,16,17,18,20,23,24,25,26, \n",
    "                     34,32,33,36,37,38,39,43,44,42,45,46,48,56,57,58,59,\n",
    "                     53,52, 188,21,31,41,51,61,65,67,66,68,69,70,71,72,73,\n",
    "                     74,75,76,77, 196,78,79,89,88,87,86,85,84,81,92,93,94,95,\n",
    "                     96,97,98,101,100,111,123,124,112,114,143,154,165,129,130,\n",
    "                     140,150,160,161,171,14,22,162,165,167,166,186,176,156,\n",
    "                     189,200,212,213,214,215,216,203,204,205,206,207,209,191,\n",
    "                     192,193,194,195,197,156,157,158,159,10,19,28,29,7,50,55,\n",
    "                     60,62,82,90,99,64,102,103,107,113,115,141,142,144,135,\n",
    "                     155,164,168,170,172,177,185,187,190,183,202,47,49,54,80,\n",
    "                     109, 104,105,106,107,119,120,121,122,151,152,153,161,199,\n",
    "                     145,146,147,148,174,175,176,169,181,198,91,117,110,83,35])\n",
    "\n",
    "newnew = newnew.reset_index(drop=True)\n",
    "newnew.head()"
   ]
  },
  {
   "cell_type": "code",
   "execution_count": 51,
   "metadata": {},
   "outputs": [
    {
     "data": {
      "image/png": "[encoded data removed]",
      "text/plain": [
       "<Figure size 792x504 with 1 Axes>"
      ]
     },
     "metadata": {
      "needs_background": "light"
     },
     "output_type": "display_data"
    }
   ],
   "source": [
    "# Set x axis and tick locations\n",
    "x_axis = np.arange(len(newnew))\n",
    "tick_locations = [value+0.8 for value in x_axis]\n",
    "y = newnew[\"Yearly Availability\"]\n",
    "\n",
    "# Create a list indicating where to write x labels and set figure size to adjust for space\n",
    "plt.figure(figsize=(11,7))\n",
    "plt.bar(x_axis, y, color='g', alpha=0.5, align=\"center\")\n",
    "plt.xticks(newnew.index, newnew[\"Neighborhood\"], rotation=\"vertical\")\n",
    "plt.show()\n"
   ]
  },
  {
   "cell_type": "markdown",
   "metadata": {},
   "source": [
    "## Co-op City a neighborhood in Bronx is paradoxically has highest availability year round followed by Willowbrook a neighborhood in Staten Island. "
   ]
  }
 ],
 "metadata": {
  "kernelspec": {
   "display_name": "Python 3",
   "language": "python",
   "name": "python3"
  },
  "language_info": {
   "codemirror_mode": {
    "name": "ipython",
    "version": 3
   },
   "file_extension": ".py",
   "mimetype": "text/x-python",
   "name": "python",
   "nbconvert_exporter": "python",
   "pygments_lexer": "ipython3",
   "version": "3.7.3"
  }
 },
 "nbformat": 4,
 "nbformat_minor": 2
}
